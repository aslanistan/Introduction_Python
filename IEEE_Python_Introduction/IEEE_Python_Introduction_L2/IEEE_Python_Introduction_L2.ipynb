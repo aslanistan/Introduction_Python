{
 "cells": [
  {
   "cell_type": "markdown",
   "metadata": {},
   "source": [
    "# IEEE Future Networks World Forum - Session 1: Introduction to Python Programming - L2\n",
    "\n",
    "## 1. It’s the Libraries!\n",
    "\n",
    "* Existing libraries to help you avoid “reinventing the wheel” \n",
    "* Leverage your program-development efforts\n",
    "* Perform significant tasks with modest amounts of code\n",
    "\n",
    "### Python Standard Library\n",
    "* The **Python Standard Library** provides rich capabilities for \n",
    "    * text/binary data processing, mathematics\n",
    "    * functional-style programming\n",
    "    * file/directory access\n",
    "    * data persistence\n",
    "    * data compression/archiving\n",
    "    * cryptography\n",
    "    * operating-system services\n",
    "    * concurrent programming\n",
    "    * interprocess communication\n",
    "    * networking protocols\n",
    "    * JSON/XML/other Internet data formats\n",
    "    * multimedia\n",
    "    * internationalization\n",
    "    * GUI\n",
    "    * debugging\n",
    "    * profiling\n",
    "    * and more\n",
    "    \n",
    "| Some of the Python Standard Library modules we use in the book |\n",
    "| :--------------------|\n",
    "| `collections`—Additional data structures beyond lists, tuples, dictionaries and sets.|\n",
    "| `csv`—Processing comma-separated value files.|\n",
    "| `datetime`, `time`—Date and time manipulations. |\n",
    "| `decimal`—Fixed-point and floating-point arithmetic, including monetary calculations.|\n",
    "| `doctest`—Simple unit testing via validation tests and expected results embedded in docstrings. |\n",
    "| `json`—JavaScript Object Notation (JSON) processing for use with web services and NoSQL document databases.|\n",
    "| `math`—Common math constants and operations.|\n",
    "| `os`—Interacting with the operating system.|\n",
    "| `queue`—First-in, first-out data structure.|\n",
    "| `random`—Pseudorandom numbers.|\n",
    "| `re`—Regular expressions for pattern matching.|\n",
    "| `sqlite3`—SQLite relational database access.|\n",
    "| `statistics`—Mathematical statistics functions like `mean`, `median`, `mode` and `variance`.|\n",
    "| `string`—String processing.|\n",
    "| `sys`—Command-line argument processing; standard input, standard output and standard error streams.|\n",
    "| `timeit`—Performance analysis.|"
   ]
  },
  {
   "cell_type": "markdown",
   "metadata": {},
   "source": [
    "## Data-Science Libraries\n",
    "\n",
    "* Enormous and rapidly growing community of open-source developers in many fields\n",
    "* One of the biggest reasons for Python’s popularity is the extraordinary range of open-source libraries developed by its open-source community\n",
    "* The following table lists various popular data-science libraries\n",
    "    * You’ll use many of these as you work through our data-science examples\n",
    "    * For visualization, we’ll use Matplotlib, Seaborn and Folium, but there are many more\n",
    "        * [A nice summary of Python visualization libraries](http://pyviz.org/)\n",
    "\n",
    "| Popular Python libraries used in data science|\n",
    "| ----------------------|\n",
    "| **_Scientific Computing and Statistics_**|\n",
    "| **_NumPy_** (Numerical Python)—Python does not have a built-in array data structure. It uses lists, which are convenient but relatively slow. NumPy provides the high-performance `ndarray` data structure to represent lists and matrices, and it also provides routines for processing such data structures. |\n",
    "| **_SciPy_** (Scientific Python)—Built on NumPy, SciPy adds routines for scientific processing, such as integrals, differential equations, additional matrix processing and more. `scipy.org` controls SciPy and NumPy. |\n",
    "| **_StatsModels_**—Provides support for estimations of statistical models, statistical tests and statistical data exploration.|\n",
    "| **_Data Manipulation and Analysis_**|\n",
    "| **_Pandas_**—An extremely popular library for data manipulations. Pandas makes abundant use of NumPy’s `ndarray`. Its two key data structures are `Series` (one dimensional) and `DataFrames` (two dimensional). |\n",
    "| **_Visualization_**|\n",
    "| **_Matplotlib_**—A highly customizable visualization and plotting library. Supported plots include regular, scatter, bar, contour, pie, quiver, grid, polar axis, 3D and text.|\n",
    "| **_Seaborn_**—A higher-level visualization library built on Matplotlib. Seaborn adds a nicer look-and-feel, additional visualizations and enables you to create visualizations with less code. |\n",
    "| **_Machine Learning, Deep Learning and Reinforcement Learning_**|\n",
    "| **_scikit-learn_**—Top machine-learning library. Machine learning is a subset of AI. Deep learning is a subset of machine learning that focuses on neural networks. |\n",
    "| **_Keras_**—One of the easiest to use deep-learning libraries. Keras runs on top of TensorFlow (Google), CNTK (Microsoft’s cognitive toolkit for deep learning) or Theano (Université de Montréal).|\n",
    "| **_TensorFlow_**—From Google, this is the most widely used deep learning library. TensorFlow works with GPUs (graphics processing units) or Google’s custom TPUs (Tensor processing units) for performance. TensorFlow is important in AI and big data analytics—where processing demands are huge. You’ll use the version of Keras that’s built into TensorFlow.|\n",
    "| **_OpenAI Gym_**—A library and environment for developing, testing and comparing reinforcement-learning algorithms. |\n",
    "| **_Natural Language Processing (NLP)_**|\n",
    "| **_NLTK_** (Natural Language Toolkit)—Used for natural language processing (NLP) tasks.|\n",
    "| **_TextBlob_**—An object-oriented NLP text-processing library built on the NLTK and pattern NLP libraries. TextBlob simplifies many NLP tasks.\n",
    "| **_Gensim_**—Similar to NLTK. Commonly used to build an index for a collection of documents, then determine how similar another document is to each of those in the index. |"
   ]
  },
  {
   "cell_type": "code",
   "execution_count": null,
   "metadata": {},
   "outputs": [],
   "source": []
  },
  {
   "cell_type": "markdown",
   "metadata": {
    "slideshow": {
     "slide_type": "slide"
    }
   },
   "source": [
    "# 2. Introduction to Python Programming"
   ]
  },
  {
   "cell_type": "markdown",
   "metadata": {
    "slideshow": {
     "slide_type": "slide"
    }
   },
   "source": [
    "### 2.1 Variables and Assignment Statements (1 of 2)"
   ]
  },
  {
   "cell_type": "code",
   "execution_count": 30,
   "metadata": {
    "slideshow": {
     "slide_type": "-"
    }
   },
   "outputs": [
    {
     "data": {
      "text/plain": [
       "117"
      ]
     },
     "execution_count": 30,
     "metadata": {},
     "output_type": "execute_result"
    }
   ],
   "source": [
    "45 + 72"
   ]
  },
  {
   "cell_type": "code",
   "execution_count": 31,
   "metadata": {
    "slideshow": {
     "slide_type": "-"
    }
   },
   "outputs": [],
   "source": [
    "x = 7"
   ]
  },
  {
   "cell_type": "markdown",
   "metadata": {
    "slideshow": {
     "slide_type": "slide"
    }
   },
   "source": [
    "### 2.2 Variables and Assignment Statements (2 of 2)\n",
    "* Preceding snippet is a **statement**. \n",
    "* Specifies a task to perform. \n",
    "* Preceding statement creates `x` and uses the **assignment symbol (`=`)** to give `x` a value. "
   ]
  },
  {
   "cell_type": "code",
   "execution_count": 29,
   "metadata": {},
   "outputs": [],
   "source": [
    "y = 3"
   ]
  },
  {
   "cell_type": "markdown",
   "metadata": {
    "slideshow": {
     "slide_type": "slide"
    }
   },
   "source": [
    "### Adding Variable Values and Viewing the Result"
   ]
  },
  {
   "cell_type": "code",
   "execution_count": null,
   "metadata": {
    "slideshow": {
     "slide_type": "-"
    }
   },
   "outputs": [],
   "source": [
    "x + y"
   ]
  },
  {
   "cell_type": "markdown",
   "metadata": {
    "slideshow": {
     "slide_type": "slide"
    }
   },
   "source": [
    "### Calculations in Assignment Statements"
   ]
  },
  {
   "cell_type": "code",
   "execution_count": null,
   "metadata": {},
   "outputs": [],
   "source": [
    "total = x + y"
   ]
  },
  {
   "cell_type": "markdown",
   "metadata": {},
   "source": [
    "* **assignment symbol (`=`)** is not an operator"
   ]
  },
  {
   "cell_type": "code",
   "execution_count": null,
   "metadata": {},
   "outputs": [],
   "source": [
    "total"
   ]
  },
  {
   "cell_type": "markdown",
   "metadata": {
    "slideshow": {
     "slide_type": "slide"
    }
   },
   "source": [
    "### Python Style\n",
    "* The _Style Guide for Python Code_ helps you write code that conforms to Python’s coding conventions. \n",
    "* Recommends inserting one space on each side of the assignment symbol `=` and binary operators like `+` to make programs more readable. "
   ]
  },
  {
   "cell_type": "markdown",
   "metadata": {
    "slideshow": {
     "slide_type": "slide"
    }
   },
   "source": [
    "### Variable Names\n",
    "* A variable name is an **identifier**. \n",
    "* May consist of letters, digits and underscores (`_`) but may not begin with a digit. \n",
    "* Python is _case sensitive_. "
   ]
  },
  {
   "cell_type": "code",
   "execution_count": 8,
   "metadata": {},
   "outputs": [],
   "source": [
    "x = 10\n",
    "X"
   ]
  },
  {
   "cell_type": "markdown",
   "metadata": {
    "slideshow": {
     "slide_type": "slide"
    }
   },
   "source": [
    "### Types (1 of 2)\n",
    "* Each value in Python has a type that indicates the kind of data the value represents. \n",
    "* You can view a value’s type, with the **`type` built-in function**."
   ]
  },
  {
   "cell_type": "code",
   "execution_count": null,
   "metadata": {},
   "outputs": [],
   "source": [
    "type(x)"
   ]
  },
  {
   "cell_type": "code",
   "execution_count": 1,
   "metadata": {},
   "outputs": [
    {
     "data": {
      "text/plain": [
       "float"
      ]
     },
     "execution_count": 1,
     "metadata": {},
     "output_type": "execute_result"
    }
   ],
   "source": [
    "type(10.5)"
   ]
  },
  {
   "cell_type": "markdown",
   "metadata": {
    "slideshow": {
     "slide_type": "slide"
    }
   },
   "source": [
    "### Types (2 of 2)\n",
    "* A function performs a task when you call it by writing its name, followed by **parentheses, `()`**. \n",
    "* The parentheses contain the function’s **argument**—the data that the type function needs to perform its task."
   ]
  },
  {
   "cell_type": "markdown",
   "metadata": {
    "slideshow": {
     "slide_type": "slide"
    }
   },
   "source": [
    "# 2.3 Arithmetic\n",
    "| Python operation | Arithmetic operator | Python expression\n",
    "| :-------- | :-------- | :-------- \n",
    "| Addition | `+`  | `f + 7` \n",
    "| Subtraction | `–` | `p - c` \n",
    "| Multiplication | `*` | `b * m` \n",
    "| Exponentiation | `**` |  `x ** y` \n",
    "| True division | `/` | `x / y` \n",
    "| Floor division | `//` | `x // y` \n",
    "| Remainder (modulo) | `%` | `r % s` \n",
    "\n",
    "* [All operators and their precedence](https://docs.python.org/3/reference/expressions.html#operator-precedence)"
   ]
  },
  {
   "cell_type": "markdown",
   "metadata": {
    "slideshow": {
     "slide_type": "slide"
    }
   },
   "source": [
    "### Multiplication (`*`)\n",
    "* Python uses the **asterisk (`*`) multiplication operator**:"
   ]
  },
  {
   "cell_type": "code",
   "execution_count": null,
   "metadata": {},
   "outputs": [],
   "source": [
    "7 * 4"
   ]
  },
  {
   "cell_type": "markdown",
   "metadata": {
    "slideshow": {
     "slide_type": "slide"
    }
   },
   "source": [
    "### Exponentiation (`**`)\n",
    "* The **exponentiation (&ast;&ast;) operator** raises one value to the power of another."
   ]
  },
  {
   "cell_type": "code",
   "execution_count": 2,
   "metadata": {},
   "outputs": [
    {
     "data": {
      "text/plain": [
       "1024"
      ]
     },
     "execution_count": 2,
     "metadata": {},
     "output_type": "execute_result"
    }
   ],
   "source": [
    "2 ** 10"
   ]
  },
  {
   "cell_type": "markdown",
   "metadata": {},
   "source": [
    "* To calculate the square root, use the exponent `1/2` or `0.5`."
   ]
  },
  {
   "cell_type": "code",
   "execution_count": 4,
   "metadata": {},
   "outputs": [
    {
     "ename": "NameError",
     "evalue": "name 'sqrt' is not defined",
     "output_type": "error",
     "traceback": [
      "\u001b[0;31m---------------------------------------------------------------------------\u001b[0m",
      "\u001b[0;31mNameError\u001b[0m                                 Traceback (most recent call last)",
      "\u001b[0;32m<ipython-input-4-3c441a9931de>\u001b[0m in \u001b[0;36m<module>\u001b[0;34m\u001b[0m\n\u001b[1;32m      1\u001b[0m \u001b[0;36m9\u001b[0m \u001b[0;34m**\u001b[0m \u001b[0;34m(\u001b[0m\u001b[0;36m1\u001b[0m \u001b[0;34m/\u001b[0m \u001b[0;36m2\u001b[0m\u001b[0;34m)\u001b[0m\u001b[0;34m\u001b[0m\u001b[0;34m\u001b[0m\u001b[0m\n\u001b[0;32m----> 2\u001b[0;31m \u001b[0msqrt\u001b[0m\u001b[0;34m(\u001b[0m\u001b[0;36m4\u001b[0m\u001b[0;34m)\u001b[0m\u001b[0;34m\u001b[0m\u001b[0;34m\u001b[0m\u001b[0m\n\u001b[0m",
      "\u001b[0;31mNameError\u001b[0m: name 'sqrt' is not defined"
     ]
    }
   ],
   "source": [
    "import nump\n",
    "9 ** (1 / 2)\n",
    "sqrt(4)"
   ]
  },
  {
   "cell_type": "markdown",
   "metadata": {
    "slideshow": {
     "slide_type": "slide"
    }
   },
   "source": [
    "### True Division (`/`) vs. Floor Division (`//`) (1 of 3)\n",
    "* **True division (`/`)** divides a numerator by a denominator and yields a floating-point number."
   ]
  },
  {
   "cell_type": "code",
   "execution_count": null,
   "metadata": {},
   "outputs": [],
   "source": [
    "7 / 4"
   ]
  },
  {
   "cell_type": "markdown",
   "metadata": {
    "slideshow": {
     "slide_type": "slide"
    }
   },
   "source": [
    "### True Division (`/`) vs. Floor Division (`//`) (2 of 3)\n",
    "* **Floor division (`//`)** divides a numerator by a denominator, yielding the highest _integer_ that’s not greater than the result.\n",
    "* **Truncates** (discards) the fractional part. "
   ]
  },
  {
   "cell_type": "code",
   "execution_count": null,
   "metadata": {
    "slideshow": {
     "slide_type": "-"
    }
   },
   "outputs": [],
   "source": [
    "7 // 4"
   ]
  },
  {
   "cell_type": "code",
   "execution_count": null,
   "metadata": {},
   "outputs": [],
   "source": [
    "3 // 5"
   ]
  },
  {
   "cell_type": "code",
   "execution_count": null,
   "metadata": {},
   "outputs": [],
   "source": [
    "14 // 7"
   ]
  },
  {
   "cell_type": "markdown",
   "metadata": {
    "slideshow": {
     "slide_type": "slide"
    }
   },
   "source": [
    "### True Division (`/`) vs. Floor Division (`//`) (3 of 3)"
   ]
  },
  {
   "cell_type": "code",
   "execution_count": null,
   "metadata": {
    "slideshow": {
     "slide_type": "-"
    }
   },
   "outputs": [],
   "source": [
    "-13 / 4"
   ]
  },
  {
   "cell_type": "code",
   "execution_count": null,
   "metadata": {},
   "outputs": [],
   "source": [
    "-13 // 4"
   ]
  },
  {
   "cell_type": "markdown",
   "metadata": {
    "slideshow": {
     "slide_type": "slide"
    }
   },
   "source": [
    "### Exceptions and Tracebacks (1 of 3)\n",
    "* Dividing by zero with `/` or `//` is not allowed and results in an **exception**."
   ]
  },
  {
   "cell_type": "code",
   "execution_count": null,
   "metadata": {},
   "outputs": [],
   "source": [
    "123 / 0"
   ]
  },
  {
   "cell_type": "markdown",
   "metadata": {
    "slideshow": {
     "slide_type": "slide"
    }
   },
   "source": [
    "### Exceptions and Tracebacks (2 of 3)\n",
    "* Exceptions produce **tracebacks**. \n",
    "* The line that begins with `---->` shows the code that caused the exception. \n",
    "* The error message at the bottom of the traceback shows the exception that occurred, followed by a colon (:) and an error message with more information about the exception.. "
   ]
  },
  {
   "cell_type": "markdown",
   "metadata": {
    "slideshow": {
     "slide_type": "slide"
    }
   },
   "source": [
    "### Exceptions and Tracebacks (3 of 3)\n",
    "* An exception occurs if you try to use a variable that you have not yet created. "
   ]
  },
  {
   "cell_type": "code",
   "execution_count": null,
   "metadata": {},
   "outputs": [],
   "source": [
    "z + 7"
   ]
  },
  {
   "cell_type": "markdown",
   "metadata": {
    "slideshow": {
     "slide_type": "slide"
    }
   },
   "source": [
    "### Remainder Operator\n",
    "* **Remainder operator (`%`)** yields the remainder after the left operand is divided by the right operand."
   ]
  },
  {
   "cell_type": "code",
   "execution_count": null,
   "metadata": {},
   "outputs": [],
   "source": [
    "17 % 5"
   ]
  },
  {
   "cell_type": "code",
   "execution_count": null,
   "metadata": {},
   "outputs": [],
   "source": [
    "7.5 % 3.5"
   ]
  },
  {
   "cell_type": "markdown",
   "metadata": {
    "slideshow": {
     "slide_type": "slide"
    }
   },
   "source": [
    "### Straight-Line Form\n",
    "* Algebraic expressions must be typed in **straight-line form** using Python’s operators. "
   ]
  },
  {
   "cell_type": "markdown",
   "metadata": {
    "slideshow": {
     "slide_type": "slide"
    }
   },
   "source": [
    "### Grouping Expressions with Parentheses\n",
    "* Parentheses group Python expressions, as in algebraic expressions. "
   ]
  },
  {
   "cell_type": "code",
   "execution_count": null,
   "metadata": {},
   "outputs": [],
   "source": [
    "10 * (5 + 3)"
   ]
  },
  {
   "cell_type": "code",
   "execution_count": null,
   "metadata": {},
   "outputs": [],
   "source": [
    "10 * 5 + 3"
   ]
  },
  {
   "cell_type": "markdown",
   "metadata": {
    "slideshow": {
     "slide_type": "slide"
    }
   },
   "source": [
    "### Operator Precedence Rules (1 of 2)\n",
    "* Generally the same as those in algebra:\n",
    "> 1. Expressions in parentheses evaluate first, so parentheses may force the order of evaluation to occur in any sequence you desire. Parentheses have the highest level of precedence. In expressions with **nested parentheses**, such as `(a / (b - c))`, the expression in the _innermost_ parentheses (that is, `b - c`) evaluates first. \n",
    "> 2. Exponentiation operations evaluate next. If an expression contains several exponentiation operations, Python applies them from right to left."
   ]
  },
  {
   "cell_type": "markdown",
   "metadata": {
    "slideshow": {
     "slide_type": "slide"
    }
   },
   "source": [
    "### Operator Precedence Rules (1 of 2)\n",
    "> 3. Multiplication, division and modulus operations evaluate next. If an expression contains several multiplication, true-division, floor-division and modulus operations, Python applies them from left to right. Multiplication, division and modulus are “on the same level of precedence.”\n",
    "> 4. Addition and subtraction operations evaluate last. If an expression contains several addition and subtraction operations, Python applies them from left to right. Addition and subtraction also have the same level of precedence.\n",
    "\n",
    "* [Complete list of operators and their precedence](https://docs.python.org/3/reference/expressions.html#operator-precedence)"
   ]
  },
  {
   "cell_type": "markdown",
   "metadata": {
    "slideshow": {
     "slide_type": "slide"
    }
   },
   "source": [
    "### Operator Grouping\n",
    "* When we say that Python applies certain operators from left to right, we are referring to the operators’ **grouping**.\n",
    "* All Python operators of the same precedence group left-to-right except for the exponentiation operator (`**`), which groups right-to-left. "
   ]
  },
  {
   "cell_type": "markdown",
   "metadata": {
    "slideshow": {
     "slide_type": "slide"
    }
   },
   "source": [
    "### Redundant Parentheses\n",
    "* Can use redundant parentheses to group subexpressions to make an expression clearer. "
   ]
  },
  {
   "cell_type": "markdown",
   "metadata": {
    "slideshow": {
     "slide_type": "slide"
    }
   },
   "source": [
    "### Operand Types\n",
    "* If both operands are integers, the result is an integer—**except for the true-division (`/`) operator, which always yields a floating-point number**. \n",
    "* If both operands are floating-point numbers, the result is a floating-point number. \n",
    "* Mixed-type expressions produce floating-point results."
   ]
  },
  {
   "cell_type": "markdown",
   "metadata": {
    "slideshow": {
     "slide_type": "slide"
    }
   },
   "source": [
    "# 2.4 Function `print` and an Intro to Single-and-Double-Quoted Strings\n",
    "* The built-in **`print` function** displays its argument(s) as a line of text "
   ]
  },
  {
   "cell_type": "code",
   "execution_count": null,
   "metadata": {
    "tags": []
   },
   "outputs": [],
   "source": [
    "print('Welcome to Python!')"
   ]
  },
  {
   "cell_type": "markdown",
   "metadata": {
    "slideshow": {
     "slide_type": "slide"
    }
   },
   "source": [
    "* May enclose a string in double quotes (`\"`)."
   ]
  },
  {
   "cell_type": "code",
   "execution_count": null,
   "metadata": {
    "collapsed": true,
    "jupyter": {
     "outputs_hidden": true
    }
   },
   "outputs": [],
   "source": [
    "print(\"Welcome to Python!\")"
   ]
  },
  {
   "cell_type": "markdown",
   "metadata": {},
   "source": [
    "* Python programmers generally prefer single quotes. \n",
    "* When `print` completes its task, it positions the screen cursor at the beginning of the next line. "
   ]
  },
  {
   "cell_type": "markdown",
   "metadata": {
    "slideshow": {
     "slide_type": "slide"
    }
   },
   "source": [
    "### Printing a Comma-Separated List of Items"
   ]
  },
  {
   "cell_type": "code",
   "execution_count": 9,
   "metadata": {
    "tags": []
   },
   "outputs": [
    {
     "name": "stdout",
     "output_type": "stream",
     "text": [
      "Welcome to Python!\n"
     ]
    }
   ],
   "source": [
    "print('Welcome', 'to', 'Python!')"
   ]
  },
  {
   "cell_type": "markdown",
   "metadata": {},
   "source": [
    "* Displays each argument separated from the next by a space."
   ]
  },
  {
   "cell_type": "markdown",
   "metadata": {
    "slideshow": {
     "slide_type": "slide"
    }
   },
   "source": [
    "### Printing Many Lines of Text with One Statement\n",
    "* A backslash (`\\`) in a string is the **escape character**. \n",
    "* The backslash and the character immediately following it form an **escape sequence**. \n",
    "* `\\n` represents the **newline character** escape sequence, which tells `print` to move the output cursor to the next line. "
   ]
  },
  {
   "cell_type": "code",
   "execution_count": null,
   "metadata": {
    "collapsed": true,
    "jupyter": {
     "outputs_hidden": true
    }
   },
   "outputs": [],
   "source": [
    "print('Welcome\\nto\\n\\nPython!')"
   ]
  },
  {
   "cell_type": "markdown",
   "metadata": {
    "slideshow": {
     "slide_type": "slide"
    }
   },
   "source": [
    "### Other Escape Sequences\n",
    "| Escape sequence | Description\n",
    "| :------- | :------------\n",
    "| `\\n` | Insert a newline character in a string. When the string is displayed, for each newline, move the screen cursor to the beginning of the next line. \n",
    "| `\\t` | Insert a horizontal tab. When the string is displayed, for each tab, move the screen cursor to the next tab stop. \n",
    "| `\\\\` | Insert a backslash character in a string.\n",
    "| `\\\"` | Insert a double quote character in a string.\n",
    "| `\\'` | Insert a single quote character in a string."
   ]
  },
  {
   "cell_type": "markdown",
   "metadata": {
    "slideshow": {
     "slide_type": "slide"
    }
   },
   "source": [
    "### Ignoring a Line Break in a Long String\n",
    "* Can split a long string (or a long statement) over several lines by using the **\\ continuation character** as the last character on a line to ignore the line break."
   ]
  },
  {
   "cell_type": "code",
   "execution_count": null,
   "metadata": {
    "collapsed": true,
    "jupyter": {
     "outputs_hidden": true
    }
   },
   "outputs": [],
   "source": [
    "print('this is a longer string, so we \\\n",
    "split it over two lines')"
   ]
  },
  {
   "cell_type": "markdown",
   "metadata": {},
   "source": [
    "* In this case, `\\` is not the escape character because another character does not follow it."
   ]
  },
  {
   "cell_type": "markdown",
   "metadata": {
    "slideshow": {
     "slide_type": "slide"
    }
   },
   "source": [
    "### Printing the Value of an Expression"
   ]
  },
  {
   "cell_type": "code",
   "execution_count": null,
   "metadata": {
    "collapsed": true,
    "jupyter": {
     "outputs_hidden": true
    }
   },
   "outputs": [],
   "source": [
    "print('Sum is', 7 + 3)"
   ]
  },
  {
   "cell_type": "markdown",
   "metadata": {},
   "source": [
    "------\n",
    "&copy;1992&ndash;2020 by Pearson Education, Inc. All Rights Reserved. This content is based on Chapter 2 of the book [**Intro to Python for Computer Science and Data Science: Learning to Program with AI, Big Data and the Cloud**](https://amzn.to/2VvdnxE).\n",
    "\n",
    "DISCLAIMER: The authors and publisher of this book have used their \n",
    "best efforts in preparing the book. These efforts include the \n",
    "development, research, and testing of the theories and programs \n",
    "to determine their effectiveness. The authors and publisher make \n",
    "no warranty of any kind, expressed or implied, with regard to these \n",
    "programs or to the documentation contained in these books. The authors \n",
    "and publisher shall not be liable in any event for incidental or \n",
    "consequential damages in connection with, or arising out of, the \n",
    "furnishing, performance, or use of these programs.                  "
   ]
  },
  {
   "cell_type": "markdown",
   "metadata": {
    "slideshow": {
     "slide_type": "slide"
    }
   },
   "source": [
    "# 2.5 Triple-Quoted Strings\n",
    "* Delimited by **`\"\"\"`** or **`'''`**, but the _Style Guide for Python Code_ recommends **`\"\"\"`**. \n",
    "* Used for:\n",
    "    * multiline strings\n",
    "    * strings containing single or double quotes\n",
    "    * **docstrings**&mdash;the recommended way to document the purposes of certain program components. "
   ]
  },
  {
   "cell_type": "markdown",
   "metadata": {
    "slideshow": {
     "slide_type": "slide"
    }
   },
   "source": [
    "### Including Quotes in Strings (1 of 3)\n",
    "* A string delimited by single quotes may include double-quote characters, but not single quotes, unless you use the `\\'` escape sequence."
   ]
  },
  {
   "cell_type": "code",
   "execution_count": null,
   "metadata": {},
   "outputs": [],
   "source": [
    "print('Display \"hi\" in quotes')"
   ]
  },
  {
   "cell_type": "code",
   "execution_count": null,
   "metadata": {},
   "outputs": [],
   "source": [
    "print('Display 'hi' in quotes')"
   ]
  },
  {
   "cell_type": "code",
   "execution_count": null,
   "metadata": {},
   "outputs": [],
   "source": [
    "print('Display \\'hi\\' in quotes')"
   ]
  },
  {
   "cell_type": "markdown",
   "metadata": {
    "slideshow": {
     "slide_type": "slide"
    }
   },
   "source": [
    "### Including Quotes in Strings (2 of 3)\n",
    "* A string delimited by double quotes may include single quote characters, but not double quotes, unless you use the `\\\"` escape sequence."
   ]
  },
  {
   "cell_type": "code",
   "execution_count": null,
   "metadata": {},
   "outputs": [],
   "source": [
    "print(\"Display the name O'Brien\")"
   ]
  },
  {
   "cell_type": "code",
   "execution_count": null,
   "metadata": {},
   "outputs": [],
   "source": [
    "print(\"Display \\\"hi\\\" in quotes\")"
   ]
  },
  {
   "cell_type": "markdown",
   "metadata": {
    "slideshow": {
     "slide_type": "slide"
    }
   },
   "source": [
    "### Including Quotes in Strings (3 of 3)\n",
    "* Triple-quoted strings may contain both single and double quotes."
   ]
  },
  {
   "cell_type": "code",
   "execution_count": null,
   "metadata": {},
   "outputs": [],
   "source": [
    "print(\"\"\"Display \"hi\" and 'bye' in quotes\"\"\")"
   ]
  },
  {
   "cell_type": "markdown",
   "metadata": {
    "slideshow": {
     "slide_type": "slide"
    }
   },
   "source": [
    "### Multiline Strings (1 of 2)"
   ]
  },
  {
   "cell_type": "code",
   "execution_count": null,
   "metadata": {},
   "outputs": [],
   "source": [
    "triple_quoted_string = \"\"\"This is a triple-quoted\n",
    "string that spans two lines\"\"\""
   ]
  },
  {
   "cell_type": "markdown",
   "metadata": {},
   "source": [
    "* IPython knows that the string is incomplete because we did not type the closing `\"\"\"` before we pressed _Enter_. \n",
    "* IPython displays a **continuation prompt `...:`** at which you can input the multiline string’s next line. \n",
    "* This continues until you enter the ending `\"\"\"` and press _Enter_. "
   ]
  },
  {
   "cell_type": "markdown",
   "metadata": {
    "slideshow": {
     "slide_type": "slide"
    }
   },
   "source": [
    "### Multiline Strings (2 of 2)"
   ]
  },
  {
   "cell_type": "code",
   "execution_count": null,
   "metadata": {},
   "outputs": [],
   "source": [
    "print(triple_quoted_string)"
   ]
  },
  {
   "cell_type": "markdown",
   "metadata": {},
   "source": [
    "* Python stores multiline strings with embedded newline characters."
   ]
  },
  {
   "cell_type": "code",
   "execution_count": null,
   "metadata": {},
   "outputs": [],
   "source": [
    "triple_quoted_string"
   ]
  },
  {
   "cell_type": "markdown",
   "metadata": {
    "slideshow": {
     "slide_type": "slide"
    }
   },
   "source": [
    "# 2.6 Getting Input from the User\n",
    "* Built-in **`input` function** requests and obtains user input."
   ]
  },
  {
   "cell_type": "code",
   "execution_count": null,
   "metadata": {},
   "outputs": [],
   "source": [
    "name = input(\"What's your name? \")"
   ]
  },
  {
   "cell_type": "code",
   "execution_count": null,
   "metadata": {},
   "outputs": [],
   "source": [
    "name"
   ]
  },
  {
   "cell_type": "code",
   "execution_count": null,
   "metadata": {},
   "outputs": [],
   "source": [
    "print(name)"
   ]
  },
  {
   "cell_type": "markdown",
   "metadata": {
    "slideshow": {
     "slide_type": "slide"
    }
   },
   "source": [
    "* If you enter quotes, they’re input as part of the string."
   ]
  },
  {
   "cell_type": "code",
   "execution_count": null,
   "metadata": {},
   "outputs": [],
   "source": [
    "name = input(\"What's your name? \")"
   ]
  },
  {
   "cell_type": "code",
   "execution_count": null,
   "metadata": {},
   "outputs": [],
   "source": [
    "name"
   ]
  },
  {
   "cell_type": "code",
   "execution_count": null,
   "metadata": {},
   "outputs": [],
   "source": [
    "print(name)"
   ]
  },
  {
   "cell_type": "markdown",
   "metadata": {
    "slideshow": {
     "slide_type": "slide"
    }
   },
   "source": [
    "### Function `input` Always Returns a String"
   ]
  },
  {
   "cell_type": "code",
   "execution_count": null,
   "metadata": {},
   "outputs": [],
   "source": [
    "value1 = input('Enter first number: ')"
   ]
  },
  {
   "cell_type": "code",
   "execution_count": null,
   "metadata": {},
   "outputs": [],
   "source": [
    "value2 = input('Enter second number: ')"
   ]
  },
  {
   "cell_type": "code",
   "execution_count": null,
   "metadata": {},
   "outputs": [],
   "source": [
    "value1 + value2"
   ]
  },
  {
   "cell_type": "markdown",
   "metadata": {},
   "source": [
    "* Python “adds” the _string_ values `'7'` and `'3'`, producing the _string_ `'73'`. \n",
    "* Known as **string concatenation**. "
   ]
  },
  {
   "cell_type": "markdown",
   "metadata": {
    "slideshow": {
     "slide_type": "slide"
    }
   },
   "source": [
    "### Getting an Integer from the User\n",
    "* If you need an integer, convert the string to an integer using the built-in **`int` function**. "
   ]
  },
  {
   "cell_type": "code",
   "execution_count": null,
   "metadata": {},
   "outputs": [],
   "source": [
    "value = input('Enter an integer: ')"
   ]
  },
  {
   "cell_type": "code",
   "execution_count": null,
   "metadata": {},
   "outputs": [],
   "source": [
    "value = int(value)"
   ]
  },
  {
   "cell_type": "code",
   "execution_count": null,
   "metadata": {},
   "outputs": [],
   "source": [
    "value"
   ]
  },
  {
   "cell_type": "markdown",
   "metadata": {
    "slideshow": {
     "slide_type": "slide"
    }
   },
   "source": [
    "* Can combine `int` and `input` in one statement."
   ]
  },
  {
   "cell_type": "code",
   "execution_count": null,
   "metadata": {},
   "outputs": [],
   "source": [
    "another_value = int(input('Enter another integer: '))"
   ]
  },
  {
   "cell_type": "code",
   "execution_count": null,
   "metadata": {},
   "outputs": [],
   "source": [
    "another_value"
   ]
  },
  {
   "cell_type": "code",
   "execution_count": null,
   "metadata": {},
   "outputs": [],
   "source": [
    "value + another_value"
   ]
  },
  {
   "cell_type": "markdown",
   "metadata": {
    "slideshow": {
     "slide_type": "slide"
    }
   },
   "source": [
    "* If the string passed to `int` cannot be converted to an integer, a `ValueError` occurs."
   ]
  },
  {
   "cell_type": "code",
   "execution_count": null,
   "metadata": {},
   "outputs": [],
   "source": [
    "bad_value = int(input('Enter another integer: '))"
   ]
  },
  {
   "cell_type": "markdown",
   "metadata": {
    "slideshow": {
     "slide_type": "slide"
    }
   },
   "source": [
    "* Function `int` also can convert a floating-point value to an integer."
   ]
  },
  {
   "cell_type": "code",
   "execution_count": null,
   "metadata": {},
   "outputs": [],
   "source": [
    "int(10.5)"
   ]
  },
  {
   "cell_type": "markdown",
   "metadata": {
    "slideshow": {
     "slide_type": "slide"
    }
   },
   "source": [
    "# 2.7 Decision Making: The if Statement and Comparison Operators\n",
    "* A **condition** is a Boolean expression with the value **`True`** or **`False`**. "
   ]
  },
  {
   "cell_type": "code",
   "execution_count": null,
   "metadata": {},
   "outputs": [],
   "source": [
    "7 > 4"
   ]
  },
  {
   "cell_type": "code",
   "execution_count": null,
   "metadata": {},
   "outputs": [],
   "source": [
    "7 < 4"
   ]
  },
  {
   "cell_type": "markdown",
   "metadata": {
    "slideshow": {
     "slide_type": "slide"
    }
   },
   "source": [
    "Algebraic operator | Python operator | Sample condition | Meaning \n",
    ":---- | :---- | :---- | :----\n",
    "&gt;  | `>` | `x > y` | `x` is greater than `y`\n",
    "&lt;  | `<` | `x < y` | `x` is less than `y`\n",
    "&ge; | `>=` | `x >= y` | `x` is greater than or equal to `y`\n",
    "&le; | `<=` | `x <= y` | `x` is less than or equal to `y`\n",
    "= | `==` | `x == y` | `x` is equal to `y`\n",
    "&ne; | `!=` | `x != y` | `x` is not equal to `y`\n",
    "\n",
    "* Operators `>`, `<`, `>=` and `<=` have the same precedence. \n",
    "* Operators `==` and `!=` have the same precedence, which is lower than `>`, `<`, `>=` and `<=`. "
   ]
  },
  {
   "cell_type": "markdown",
   "metadata": {
    "slideshow": {
     "slide_type": "slide"
    }
   },
   "source": [
    "* It's a syntax error when any of the operators `==`, `!=`, `>=` and `<=` contains spaces between its pair of symbols."
   ]
  },
  {
   "cell_type": "code",
   "execution_count": null,
   "metadata": {},
   "outputs": [],
   "source": [
    "7 > = 4"
   ]
  },
  {
   "cell_type": "markdown",
   "metadata": {
    "slideshow": {
     "slide_type": "slide"
    }
   },
   "source": [
    "### Making Decisions with the if Statement: Introducing Scripts\n",
    "* The **`if` statement** uses a condition to decide whether to execute a statement (or a group of statements). \n",
    "* We’ll read two integers from the user and compare them using six consecutive `if` statements, one for each comparison operator. \n",
    "* When you have many statements to execute as a group, you typically write them as a **script** stored in a file with the `.py` (short for Python) extension. "
   ]
  },
  {
   "cell_type": "markdown",
   "metadata": {
    "slideshow": {
     "slide_type": "slide"
    }
   },
   "source": [
    "```python \n",
    "# fig02_01.py\n",
    "\"\"\"Comparing integers using if statements and comparison operators.\"\"\"\n",
    "\n",
    "print('Enter two integers, and I will tell you',\n",
    "      'the relationships they satisfy.')\n",
    "\n",
    "# read first integer\n",
    "number1 = int(input('Enter first integer: '))\n",
    "\n",
    "# read second integer\n",
    "number2 = int(input('Enter second integer: '))\n",
    "\n",
    "if number1 == number2:\n",
    "    print(number1, 'is equal to', number2)\n",
    "\n",
    "if number1 != number2:\n",
    "    print(number1, 'is not equal to', number2)\n",
    "\n",
    "if number1 < number2:\n",
    "    print(number1, 'is less than', number2)\n",
    "\n",
    "if number1 > number2:\n",
    "    print(number1, 'is greater than', number2)\n",
    "\n",
    "if number1 <= number2:\n",
    "    print(number1, 'is less than or equal to', number2)\n",
    "\n",
    "if number1 >= number2:\n",
    "    print(number1, 'is greater than or equal to', number2)\n",
    "```"
   ]
  },
  {
   "cell_type": "markdown",
   "metadata": {
    "slideshow": {
     "slide_type": "slide"
    }
   },
   "source": [
    "* Enter `37` and `42`"
   ]
  },
  {
   "cell_type": "markdown",
   "metadata": {
    "slideshow": {
     "slide_type": "slide"
    }
   },
   "source": [
    "### Comments\n",
    "* The hash character (**`#`**) indicates that the rest of the line is a **comment**.\n",
    "* We begin each script with a comment indicating the script’s file name. \n",
    "* A comment also can begin to the right of the code on a given line and continue until the end of that line.  "
   ]
  },
  {
   "cell_type": "markdown",
   "metadata": {
    "slideshow": {
     "slide_type": "slide"
    }
   },
   "source": [
    "### Docstrings\n",
    "* The _Style Guide for Python Code_ says each script should start with a docstring that explains the script’s purpose.\n",
    "* Often spans many lines for more complex scripts. "
   ]
  },
  {
   "cell_type": "markdown",
   "metadata": {
    "slideshow": {
     "slide_type": "slide"
    }
   },
   "source": [
    "### Blank Lines\n",
    "* Blank lines and space characters to make code easier to read. \n",
    "* Together, blank lines, space characters and tab characters are known as **white space**. \n",
    "* Python ignores most white space."
   ]
  },
  {
   "cell_type": "markdown",
   "metadata": {
    "slideshow": {
     "slide_type": "slide"
    }
   },
   "source": [
    "### Splitting a Lengthy Statement Across Lines\n",
    "* Typically, you write statements on one line. \n",
    "* You may spread a lengthy statement over several lines with the `\\` continuation character. \n",
    "* Also can split long code lines in parentheses without using continuation characters (as in the script's first `print` statement)&mdash;this is preferred according to the _Style Guide for Python Code_. "
   ]
  },
  {
   "cell_type": "markdown",
   "metadata": {
    "slideshow": {
     "slide_type": "slide"
    }
   },
   "source": [
    "### Reading Integer Values from the User\n",
    "* We use built-in functions `input` and `int` to prompt for and read two integer values from the user. "
   ]
  },
  {
   "cell_type": "markdown",
   "metadata": {
    "slideshow": {
     "slide_type": "slide"
    }
   },
   "source": [
    "### `if` Statements\n",
    "* Each `if` statement consists of the keyword `if`, the condition to test, and a colon (`:`) followed by an indented body called a **suite**. \n",
    "* Each suite must contain one or more statements. \n"
   ]
  },
  {
   "cell_type": "markdown",
   "metadata": {
    "slideshow": {
     "slide_type": "slide"
    }
   },
   "source": [
    "### Suite Indentation\n",
    "* Python requires you to indent the statements in suites. \n",
    "* The _Style Guide for Python Code_ recommends four-space indents."
   ]
  },
  {
   "cell_type": "markdown",
   "metadata": {
    "slideshow": {
     "slide_type": "slide"
    }
   },
   "source": [
    "### Confusing == and = \n",
    "* Using the assignment symbol (`=`) instead of the equality operator (`==`) in an `if` statement’s condition is a common syntax error. "
   ]
  },
  {
   "cell_type": "markdown",
   "metadata": {
    "slideshow": {
     "slide_type": "slide"
    }
   },
   "source": [
    "### Chaining Comparisons\n",
    "* You can chain comparisons to check whether a value is in a range."
   ]
  },
  {
   "cell_type": "code",
   "execution_count": 20,
   "metadata": {},
   "outputs": [],
   "source": [
    "x = 3"
   ]
  },
  {
   "cell_type": "code",
   "execution_count": 21,
   "metadata": {},
   "outputs": [
    {
     "data": {
      "text/plain": [
       "True"
      ]
     },
     "execution_count": 21,
     "metadata": {},
     "output_type": "execute_result"
    }
   ],
   "source": [
    "1 <= x <= 5"
   ]
  },
  {
   "cell_type": "code",
   "execution_count": 22,
   "metadata": {},
   "outputs": [],
   "source": [
    "x = 10"
   ]
  },
  {
   "cell_type": "code",
   "execution_count": 23,
   "metadata": {},
   "outputs": [
    {
     "data": {
      "text/plain": [
       "False"
      ]
     },
     "execution_count": 23,
     "metadata": {},
     "output_type": "execute_result"
    }
   ],
   "source": [
    "1 <= x <= 5"
   ]
  },
  {
   "cell_type": "markdown",
   "metadata": {
    "slideshow": {
     "slide_type": "slide"
    }
   },
   "source": [
    "### Precedence of the Operators We’ve Presented So Far \n",
    "| Operators&nbsp;&nbsp;&nbsp;&nbsp;&nbsp;&nbsp;&nbsp;&nbsp;&nbsp;&nbsp;&nbsp;&nbsp;&nbsp;&nbsp;&nbsp;&nbsp; | Grouping&nbsp;&nbsp;&nbsp;&nbsp;&nbsp;&nbsp;&nbsp;&nbsp;&nbsp; | Type\n",
    "| :-------- | :---- | :----\n",
    "| `()` | left to right | parentheses\n",
    "| `**` | right to left | exponentiation \n",
    "| `*` &nbsp;&nbsp;&nbsp; `/` &nbsp;&nbsp;&nbsp; `//` &nbsp;&nbsp;&nbsp; `%` | left to right | multiplication, true division, floor division, remainder\n",
    "| `+` &nbsp;&nbsp;&nbsp; `–`  | left to right | addition, subtraction\n",
    "| `>` &nbsp;&nbsp;&nbsp; `<=` &nbsp;&nbsp;&nbsp; `<` &nbsp;&nbsp;&nbsp; `>=` | left to right | less than, less than or equal, greater than, greater than or equal\n",
    "| `==` &nbsp;&nbsp;&nbsp; `!=`   | left to right | equal, not equal"
   ]
  },
  {
   "cell_type": "markdown",
   "metadata": {
    "slideshow": {
     "slide_type": "slide"
    }
   },
   "source": [
    "# 2.8 Objects and Dynamic Typing\n",
    "* `7` (an integer), `4.1` (a floating-point number) and `'dog'` are all objects. \n",
    "* Every object has a type and a value."
   ]
  },
  {
   "cell_type": "code",
   "execution_count": null,
   "metadata": {},
   "outputs": [],
   "source": [
    "type(7)"
   ]
  },
  {
   "cell_type": "code",
   "execution_count": null,
   "metadata": {},
   "outputs": [],
   "source": [
    "type(4.1)"
   ]
  },
  {
   "cell_type": "code",
   "execution_count": null,
   "metadata": {},
   "outputs": [],
   "source": [
    "type('dog')"
   ]
  },
  {
   "cell_type": "markdown",
   "metadata": {
    "slideshow": {
     "slide_type": "slide"
    }
   },
   "source": [
    "* An object’s value is the data stored in the object. \n",
    "* The snippets above show objects of built-in types **`int`** (for integers), **`float`** (for floating-point numbers) and **`str`** (for strings). "
   ]
  },
  {
   "cell_type": "markdown",
   "metadata": {
    "slideshow": {
     "slide_type": "slide"
    }
   },
   "source": [
    "### Variables Refer to Objects\n",
    "* Assigning an object to a variable **binds** (associates) that variable’s name to the object. \n",
    "* Can then use the variable to access the object’s value."
   ]
  },
  {
   "cell_type": "code",
   "execution_count": null,
   "metadata": {},
   "outputs": [],
   "source": [
    "x = 7"
   ]
  },
  {
   "cell_type": "code",
   "execution_count": null,
   "metadata": {},
   "outputs": [],
   "source": [
    "x + 10"
   ]
  },
  {
   "cell_type": "code",
   "execution_count": null,
   "metadata": {},
   "outputs": [],
   "source": [
    "x"
   ]
  },
  {
   "cell_type": "markdown",
   "metadata": {
    "slideshow": {
     "slide_type": "slide"
    }
   },
   "source": [
    "* Variable `x` **refers** to the integer object containing `7`."
   ]
  },
  {
   "cell_type": "code",
   "execution_count": null,
   "metadata": {},
   "outputs": [],
   "source": [
    "x = x + 10"
   ]
  },
  {
   "cell_type": "code",
   "execution_count": null,
   "metadata": {},
   "outputs": [],
   "source": [
    "x"
   ]
  },
  {
   "cell_type": "markdown",
   "metadata": {
    "slideshow": {
     "slide_type": "slide"
    }
   },
   "source": [
    "### Dynamic Typing (1 of 2)\n",
    "* Python uses **dynamic typing**—it determines the type of the object a variable refers to while executing your code. \n",
    "* Can show this by rebinding the variable `x` to different objects and checking their types."
   ]
  },
  {
   "cell_type": "markdown",
   "metadata": {
    "slideshow": {
     "slide_type": "slide"
    }
   },
   "source": [
    "### Dynamic Typing (2 of 2)"
   ]
  },
  {
   "cell_type": "code",
   "execution_count": null,
   "metadata": {},
   "outputs": [],
   "source": [
    "type(x)"
   ]
  },
  {
   "cell_type": "code",
   "execution_count": null,
   "metadata": {},
   "outputs": [],
   "source": [
    "x = 4.1"
   ]
  },
  {
   "cell_type": "code",
   "execution_count": null,
   "metadata": {},
   "outputs": [],
   "source": [
    "type(x)"
   ]
  },
  {
   "cell_type": "code",
   "execution_count": null,
   "metadata": {},
   "outputs": [],
   "source": [
    "x = 'dog'"
   ]
  },
  {
   "cell_type": "code",
   "execution_count": null,
   "metadata": {},
   "outputs": [],
   "source": [
    "type(x)"
   ]
  },
  {
   "cell_type": "markdown",
   "metadata": {
    "slideshow": {
     "slide_type": "slide"
    }
   },
   "source": [
    "### Garbage Collection\n",
    "* Python creates objects in memory and removes them from memory as necessary. \n",
    "* When an object is no longer bound to a variable, Python can automatically removes the object from memory. \n",
    "* This process—called **garbage collection**—helps ensure that memory is available for new objects."
   ]
  },
  {
   "cell_type": "markdown",
   "metadata": {},
   "source": []
  },
  {
   "cell_type": "markdown",
   "metadata": {},
   "source": [
    "# 3. Data Types in Python\n",
    "\n",
    "## Integers\n",
    "\n",
    "Python 3 an integer can be any size. Also size of an integer (as well as float, strings, etc. ) can vary based on the variable. Another important point is the HW (size of the system memory)."
   ]
  },
  {
   "cell_type": "code",
   "execution_count": 1,
   "metadata": {},
   "outputs": [
    {
     "data": {
      "text/plain": [
       "(28, 32, 36, 108)"
      ]
     },
     "execution_count": 1,
     "metadata": {},
     "output_type": "execute_result"
    }
   ],
   "source": [
    "import sys\n",
    "a=3; b=(2**60)-1;c=2**60;d=2**600\n",
    "sys.getsizeof(a),sys.getsizeof(b),sys.getsizeof(c),sys.getsizeof(d)"
   ]
  },
  {
   "cell_type": "code",
   "execution_count": 2,
   "metadata": {},
   "outputs": [
    {
     "data": {
      "text/plain": [
       "(24, 24, 24, 24)"
      ]
     },
     "execution_count": 2,
     "metadata": {},
     "output_type": "execute_result"
    }
   ],
   "source": [
    "a=3.; b=float((2**60)-1);c=float(2**60);d=float(2**600)\n",
    "sys.getsizeof(a),sys.getsizeof(b),sys.getsizeof(c),sys.getsizeof(d)"
   ]
  },
  {
   "cell_type": "markdown",
   "metadata": {},
   "source": [
    "Default display of a number id decimal. A number will be assigned as decimal if there is no prefix. The following strings can be prepended to an integer value to indicate a base other than 10:\n",
    "\n",
    "|Base | Interpretation|Prefix|\n",
    "|-----|---------------|------|\n",
    "|2|Binary| 0b or 0B  |\n",
    "|8|Octal| 0o or 0O  |\n",
    "|16|HexaDecimal| 0x or 0X  |"
   ]
  },
  {
   "cell_type": "code",
   "execution_count": 3,
   "metadata": {},
   "outputs": [
    {
     "name": "stdout",
     "output_type": "stream",
     "text": [
      "Number 20 is base 10 -----> 1000 and type is <class 'int'>\n",
      "Number 20 is base 2 -----> 8 and type is <class 'int'>\n",
      "Number 20 is base 8 -----> 512 and type is <class 'int'>\n",
      "Number 20 is base 16 -----> 4096 and type is <class 'int'>\n"
     ]
    }
   ],
   "source": [
    "print(f'Number 20 is base 10 -----> {1000} and type is {type(1000)}' )\n",
    "print(f'Number 20 is base 2 -----> {0b1000} and type is {type(0b1000)}')\n",
    "print(f'Number 20 is base 8 -----> {0o1000} and type is {type(0o1000)}')\n",
    "print(f'Number 20 is base 16 -----> {0x1000} and type is {type(0x1000)}')"
   ]
  },
  {
   "cell_type": "markdown",
   "metadata": {},
   "source": [
    "Python is object oriented language and integers are also objects and have attributes/methods. \n",
    "* bit_length\n",
    "* conjugate\n",
    "* denominator\n",
    "* from_bytes\n",
    "* imag\n",
    "* numerator\n",
    "* real\n",
    "* to_bytes"
   ]
  },
  {
   "cell_type": "code",
   "execution_count": 4,
   "metadata": {},
   "outputs": [
    {
     "data": {
      "text/plain": [
       "1"
      ]
     },
     "execution_count": 4,
     "metadata": {},
     "output_type": "execute_result"
    }
   ],
   "source": [
    "a=1\n",
    "a.conjugate() # "
   ]
  },
  {
   "cell_type": "code",
   "execution_count": 5,
   "metadata": {},
   "outputs": [
    {
     "data": {
      "text/plain": [
       "1"
      ]
     },
     "execution_count": 5,
     "metadata": {},
     "output_type": "execute_result"
    }
   ],
   "source": [
    "a.bit_length() # number of bits requires to represent integer"
   ]
  },
  {
   "cell_type": "markdown",
   "metadata": {},
   "source": [
    "## Floating-Point Numbers\n",
    "\n",
    "If there is number floating point number that is defined as float in Python. If a number has decimal point (could be integer)that number assigned as floating-point number. Also, using characters e or E followed by a positive or negative integer may be appended to specify scientific notation:"
   ]
  },
  {
   "cell_type": "code",
   "execution_count": 6,
   "metadata": {},
   "outputs": [
    {
     "name": "stdout",
     "output_type": "stream",
     "text": [
      "4.0 ---> type is <class 'float'>\n",
      "4.123 ---> type is <class 'float'>\n",
      "2.0 ---> type is <class 'float'>\n",
      "(4000.0, 4000.0) ---> type is <class 'float'>\n"
     ]
    }
   ],
   "source": [
    "print(f'{4.} ---> type is {type(4.)}' )\n",
    "print(f'{4.123} ---> type is {type(4.123)}' )\n",
    "print(f'{4/2} ---> type is {type(4/2)}' )\n",
    "print(f'{4e3,4E3} ---> type is {type(4/2)}' )"
   ]
  },
  {
   "cell_type": "markdown",
   "metadata": {},
   "source": [
    "Python (almost all platforms) uses double-precision, 64-bit floating point numbers (IEEE 754 standard). In that case, the maximum value a floating-point number can have is approximately $\\mathrm{1.8\\times 10^{308}}$. Python will indicate a number greater than that by the string inf. \n",
    "\n",
    "The closest a nonzero number can be to zero is approximately $\\mathrm{5\\times 10^{-324}}$. Anything closer to zero than that is effectively zero:\n",
    "\n",
    "![FloatingPoint](pic/001.png)\n",
    "\n",
    "[More info .... ](https://en.wikipedia.org/wiki/Double-precision_floating-point_format)\n",
    "\n"
   ]
  },
  {
   "cell_type": "code",
   "execution_count": 7,
   "metadata": {},
   "outputs": [
    {
     "name": "stdout",
     "output_type": "stream",
     "text": [
      "1.79e+308\n",
      "inf\n",
      "5e-324\n",
      "0.0\n"
     ]
    }
   ],
   "source": [
    "print(1.79e308) # largest floating point number\n",
    "print(1.8e308) # infinite\n",
    "print(5e-324) # smallest floating point number\n",
    "print(1e-324) # zero"
   ]
  },
  {
   "cell_type": "markdown",
   "metadata": {},
   "source": [
    "## Complex Numbers\n",
    "\n",
    "Complex numbers are specified as {Real}+{Imaginary}j in python. We need to use j to represent $\\sqrt{-1}$ and needs to be placed after the number. \n",
    "\n"
   ]
  },
  {
   "cell_type": "code",
   "execution_count": 8,
   "metadata": {},
   "outputs": [
    {
     "name": "stdout",
     "output_type": "stream",
     "text": [
      "(4-4j)\n"
     ]
    }
   ],
   "source": [
    "z1=3-2j;z2=1-2j;z3=2+4j\n",
    "print(z1+z2)"
   ]
  },
  {
   "cell_type": "code",
   "execution_count": 9,
   "metadata": {},
   "outputs": [
    {
     "data": {
      "text/plain": [
       "((3+2j), -2.0, 3.0)"
      ]
     },
     "execution_count": 9,
     "metadata": {},
     "output_type": "execute_result"
    }
   ],
   "source": [
    "z1.conjugate(),z1.imag,z1.real"
   ]
  },
  {
   "cell_type": "markdown",
   "metadata": {},
   "source": [
    "## Strings\n",
    "\n",
    "Strings are sequences of character data. String can be generated using either single or double quotes. The string type in Python is called `str`.\n",
    "\n",
    "String can have from no character (empty string) `''` to as many as character. If a string contains single quotes, an escape sequence backslash `\\` can be used (another suggested method is to use double quotes to declare string and use single quote without escape sequence.      "
   ]
  },
  {
   "cell_type": "code",
   "execution_count": 10,
   "metadata": {},
   "outputs": [
    {
     "name": "stdout",
     "output_type": "stream",
     "text": [
      "This is a string\n",
      "This is a string\n",
      "This string uses ' quotes\n",
      "This string uses \" quotes\n",
      "This string does not use ' quotes\n",
      "This string does not use \" quotes\n"
     ]
    }
   ],
   "source": [
    "print('This is a string')\n",
    "print(\"This is a string\")\n",
    "print('This string uses \\' quotes') # escape sequence\n",
    "print(\"This string uses \\\" quotes\") # escape sequence\n",
    "print(\"This string does not use ' quotes\") # no escape sequence\n",
    "print('This string does not use \" quotes') # no escape sequence"
   ]
  },
  {
   "cell_type": "markdown",
   "metadata": {},
   "source": [
    "## String formatting\n",
    "\n",
    "There are three different string formatting in Python (Python 3.6 or grater). "
   ]
  },
  {
   "cell_type": "code",
   "execution_count": 11,
   "metadata": {},
   "outputs": [
    {
     "name": "stdout",
     "output_type": "stream",
     "text": [
      "John's exam grades are 82 and 75.50 and his average: 78.75\n"
     ]
    }
   ],
   "source": [
    "name='John'\n",
    "e1=82\n",
    "e2=75.5\n",
    "text = \"%s's exam grades are %d and %.2f and his average: %.2f\" % (name, e1,e2,(e1+e2)/2)\n",
    "print(text)"
   ]
  },
  {
   "cell_type": "code",
   "execution_count": 88,
   "metadata": {},
   "outputs": [
    {
     "name": "stdout",
     "output_type": "stream",
     "text": [
      "John's exam grades are 82 and 75.500 and his average: 78.75\n"
     ]
    }
   ],
   "source": [
    "text = \"{}'s exam grades are {} and {:.3f} and his average: {}\".format(name, e1,e2,(e1+e2)/2)\n",
    "print(text)"
   ]
  },
  {
   "cell_type": "code",
   "execution_count": 91,
   "metadata": {},
   "outputs": [
    {
     "name": "stdout",
     "output_type": "stream",
     "text": [
      "John's exam grades are 82 and 75.500 and his average: 78.75\n"
     ]
    }
   ],
   "source": [
    "text = f\"{name}'s exam grades are {e1} and {e2:.3f} and his average: {(e1+e2)/2}\"\n",
    "print(text)"
   ]
  },
  {
   "cell_type": "markdown",
   "metadata": {},
   "source": [
    "### f-string Formatting in Python\n",
    "\n",
    "There is a new string formatting method is offered in Python starting version 3.6. The syntax:\n",
    "* `f'string'` \n",
    "* `f\"string\"` \n",
    "* `F\"string\"`  \n",
    "* `F\"string\"`  \n",
    "\n",
    "#### Arbitrary Expressions\n",
    "We can put any python expression in f'string because it is evaluated at runtime. "
   ]
  },
  {
   "cell_type": "code",
   "execution_count": 92,
   "metadata": {},
   "outputs": [
    {
     "name": "stdout",
     "output_type": "stream",
     "text": [
      "Here is addition 5\n"
     ]
    }
   ],
   "source": [
    "print(f'Here is addition {3+2}')"
   ]
  },
  {
   "cell_type": "code",
   "execution_count": 96,
   "metadata": {},
   "outputs": [
    {
     "name": "stdout",
     "output_type": "stream",
     "text": [
      "Sine of pi/3 is: 0.8660254037844386\n",
      "Sine of pi/3 is: 0.87\n"
     ]
    }
   ],
   "source": [
    "import math\n",
    "print(f'Sine of pi/3 is: {math.sin(math.pi/3)}')\n",
    "print(f'Sine of pi/3 is: {math.sin(math.pi/3):.2f}') # Also formatting works"
   ]
  },
  {
   "cell_type": "code",
   "execution_count": 99,
   "metadata": {},
   "outputs": [
    {
     "name": "stdout",
     "output_type": "stream",
     "text": [
      "Name lower: john smith\n",
      "Name lower: JOHN SMITH\n"
     ]
    }
   ],
   "source": [
    "name = 'John Smith'\n",
    "print(f'Name lower: {name.lower()}')\n",
    "print(f'Name lower: {name.upper()}')"
   ]
  },
  {
   "cell_type": "code",
   "execution_count": 105,
   "metadata": {},
   "outputs": [
    {
     "name": "stdout",
     "output_type": "stream",
     "text": [
      "Hello John. Your exam I is 100. Your exam II is 50. Your exam avg is 75. \n"
     ]
    }
   ],
   "source": [
    "import statistics as st\n",
    "name = \"John\"\n",
    "ExamI = 100\n",
    "ExamII = 50\n",
    "grade = (\n",
    "    f\"Hello {name}. \"\n",
    "    f\"Your exam I is {ExamI}. \"\n",
    "    f\"Your exam II is {ExamII}. \"\n",
    "    f\"Your exam avg is {st.mean([ExamI,ExamII])}. \"    \n",
    ")\n",
    "print(grade)"
   ]
  },
  {
   "cell_type": "code",
   "execution_count": 108,
   "metadata": {},
   "outputs": [
    {
     "name": "stdout",
     "output_type": "stream",
     "text": [
      "Hello John. Your exam I is 100. Your exam II is 50. Your exam avg is 75.0. \n"
     ]
    }
   ],
   "source": [
    "name = \"John\"\n",
    "ExamI = 100\n",
    "ExamII = 50\n",
    "grade = f\"Hello {name}. \"\\\n",
    "    f\"Your exam I is {ExamI}. \"\\\n",
    "    f\"Your exam II is {ExamII}. \"\\\n",
    "    f\"Your exam avg is {(ExamI+ExamII)/2}. \"    \n",
    "\n",
    "print(grade)"
   ]
  },
  {
   "cell_type": "code",
   "execution_count": 129,
   "metadata": {},
   "outputs": [
    {
     "data": {
      "text/plain": [
       "0.05909301100473385"
      ]
     },
     "execution_count": 129,
     "metadata": {},
     "output_type": "execute_result"
    }
   ],
   "source": [
    "import timeit\n",
    "timeit.timeit(\"\"\"\n",
    "name = \"John\"\n",
    "ExamI = 100\n",
    "ExamII = 50\n",
    "'Hello %s. Your Exams are %d and %d. Your avg is %.4f'% (name, ExamI, ExamII,(ExamI+ExamII)/2)\n",
    "\"\"\", number = 100000)"
   ]
  },
  {
   "cell_type": "code",
   "execution_count": 130,
   "metadata": {},
   "outputs": [
    {
     "data": {
      "text/plain": [
       "0.07824044700100785"
      ]
     },
     "execution_count": 130,
     "metadata": {},
     "output_type": "execute_result"
    }
   ],
   "source": [
    "import timeit\n",
    "timeit.timeit(\"\"\"\n",
    "name = \"John\"\n",
    "ExamI = 100\n",
    "ExamII = 50\n",
    "'Hello {0}. Your Exams are {1} and {2}. Your avg is {3:.4f}'.format(name, ExamI, ExamII,(ExamI+ExamII)/2)\n",
    "\"\"\", number = 100000)"
   ]
  },
  {
   "cell_type": "code",
   "execution_count": 131,
   "metadata": {},
   "outputs": [
    {
     "data": {
      "text/plain": [
       "0.06292230899998685"
      ]
     },
     "execution_count": 131,
     "metadata": {},
     "output_type": "execute_result"
    }
   ],
   "source": [
    "import timeit\n",
    "timeit.timeit(\"\"\"\n",
    "name = \"John\"\n",
    "ExamI = 100\n",
    "ExamII = 50\n",
    "f'Hello {name}. Your Exams are {ExamI} and {ExamII}. Your avg is {(ExamI+ExamII)/2:.4f}'\n",
    "\"\"\", number = 100000)"
   ]
  },
  {
   "cell_type": "code",
   "execution_count": 124,
   "metadata": {},
   "outputs": [
    {
     "name": "stdout",
     "output_type": "stream",
     "text": [
      "Hello John. Your Exams are 100 and 50. Your avg is 75.0000\n"
     ]
    }
   ],
   "source": [
    "name = \"John\"\n",
    "ExamI = 100\n",
    "ExamII = 50\n",
    "print(f'Hello {name}. Your Exams are {ExamI} and {ExamII}. Your avg is {(ExamI+ExamII)/2:.4f}')"
   ]
  },
  {
   "cell_type": "code",
   "execution_count": 145,
   "metadata": {},
   "outputs": [
    {
     "name": "stdout",
     "output_type": "stream",
     "text": [
      "John\n",
      "      John\n",
      "                John\n",
      "        John        \n"
     ]
    }
   ],
   "source": [
    "name = \"John\"\n",
    "print(f\"{name}\")\n",
    "print(f\"{name:>10}\")\n",
    "print(f\"{name:>20}\")\n",
    "print(f\"{name:^20}\")"
   ]
  },
  {
   "cell_type": "code",
   "execution_count": 178,
   "metadata": {},
   "outputs": [
    {
     "name": "stdout",
     "output_type": "stream",
     "text": [
      "82 and 77.35978452\n",
      "  82 and 77.35978452\n",
      "  82 and 77.35978452\n",
      "0082 and 77.35978452\n",
      "0082 and 77.35978452\n",
      "0082 and 77.35978452\n"
     ]
    }
   ],
   "source": [
    "age = 82\n",
    "grade=77.35978452\n",
    "print(f\"{age} and {grade}\")\n",
    "print(f\"{age:4} and {grade}\")\n",
    "print(f\"{age:4d} and {grade}\")\n",
    "print(f\"{age:04d} and {grade}\")\n",
    "print(f\"{age:0>4} and {grade}\")\n",
    "age='82'\n",
    "# print(f\"{age:04} and {grade}\")\n",
    "print(f\"{age:0>4} and {grade}\")"
   ]
  },
  {
   "cell_type": "code",
   "execution_count": 191,
   "metadata": {},
   "outputs": [
    {
     "name": "stdout",
     "output_type": "stream",
     "text": [
      "82 and 77.35978452\n",
      "82 and 77.3598\n",
      "82 and    77.3598\n",
      "82 and 00077.3598\n",
      "82 and 2,000.0000\n"
     ]
    }
   ],
   "source": [
    "age = 82\n",
    "grade=77.35978452    # f'{value:{width}.{precision}}'\n",
    "print(f\"{age} and {grade}\")\n",
    "print(f\"{age} and {grade:.4f}\")\n",
    "print(f\"{age} and {grade:10.4f}\")\n",
    "print(f\"{age} and {grade:010.4f}\")\n",
    "grade=2000\n",
    "print(f\"{age} and {grade:,.4f}\") # works for integer as well"
   ]
  },
  {
   "cell_type": "markdown",
   "metadata": {},
   "source": [
    "# 4. List\n",
    "\n",
    "Lists is one of the most useful data type in Python. Lists store sequences of data (does mot have to be same type). Use square brackets `[ ]` are used to create lists.\n",
    "\n",
    "The important characteristics of Python lists are as follows:\n",
    "\n",
    "* Lists are ordered.\n",
    "* Lists can contain any arbitrary objects.\n",
    "* List elements can be accessed by index.\n",
    "* Lists can be nested to arbitrary depth.\n",
    "* Lists are mutable.\n",
    "* Lists are dynamic."
   ]
  },
  {
   "cell_type": "code",
   "execution_count": 12,
   "metadata": {},
   "outputs": [
    {
     "data": {
      "text/plain": [
       "(list, 4544580032, 4505962832, float)"
      ]
     },
     "execution_count": 12,
     "metadata": {},
     "output_type": "execute_result"
    }
   ],
   "source": [
    "a=[]   # empty list\n",
    "b=[1,2,3,4] # list with integers\n",
    "c=[1,3.0,'k','Texas']\n",
    "type(a),id(b),id(b[1]),type(c[1])"
   ]
  },
  {
   "cell_type": "markdown",
   "metadata": {},
   "source": [
    "###  Lists are ordered\n",
    ".\n",
    "A list is ordered collection of objects. \n",
    "\n",
    "``` \n",
    "a = [1,2,3]\n",
    "b = [3,2,1]\n",
    "```\n",
    "are not same lists. \n"
   ]
  },
  {
   "cell_type": "code",
   "execution_count": 13,
   "metadata": {},
   "outputs": [
    {
     "name": "stdout",
     "output_type": "stream",
     "text": [
      "False\n",
      "False\n",
      "False\n",
      "True\n"
     ]
    }
   ],
   "source": [
    "a = [1,2,3]\n",
    "b = [3,2,1]\n",
    "print(a is b)\n",
    "print(a == b)\n",
    "print([3] in b)\n",
    "print(3 in b)"
   ]
  },
  {
   "cell_type": "markdown",
   "metadata": {},
   "source": [
    "### Lists Can Contain Arbitrary Objects\n",
    "\n",
    "A list can contain any type of objects. The elements of a list can all be the same type as well as varying types."
   ]
  },
  {
   "cell_type": "code",
   "execution_count": 14,
   "metadata": {},
   "outputs": [
    {
     "name": "stdout",
     "output_type": "stream",
     "text": [
      "<class 'list'>\n",
      "<class 'str'>\n",
      "<class 'int'>\n",
      "<class 'tuple'>\n",
      "<class 'float'>\n",
      "<class 'dict'>\n",
      "<class 'list'>\n"
     ]
    }
   ],
   "source": [
    "a=[1,2,3,4] # list with all integers\n",
    "b=[1,2,3,4.] # list with all integers and floats\n",
    "c=[1,2,3,4.,'test'] # list with integers, float and string\n",
    "d=[[1,2,3],'hello',2,(1,2),4.,{'a':1}] # list with sub-list, tuple\n",
    "\n",
    "print(type(d[0])) \n",
    "print(type(d[1])) \n",
    "print(type(d[2])) \n",
    "print(type(d[3])) \n",
    "print(type(d[4])) \n",
    "print(type(d[5])) \n",
    "print(type(d)) "
   ]
  },
  {
   "cell_type": "markdown",
   "metadata": {},
   "source": [
    "###  List elements can be accessed by index\n",
    "\n",
    "Individual elements in a list can be accessed using an index in square brackets similar way strings. \n",
    "\n",
    "```\n",
    "a = ['foo', 'bar', 'baz', 'qux', 'quux', 'corge']\n",
    "```\n",
    "\n",
    "![List](pic/0021.png)\n",
    "\n",
    "Index number starts from 0 in Python. Last element ('corge') in this example above also consider -1 index. This is good way to access the last element.   "
   ]
  },
  {
   "cell_type": "code",
   "execution_count": 15,
   "metadata": {},
   "outputs": [
    {
     "name": "stdout",
     "output_type": "stream",
     "text": [
      "foo\n",
      "qux\n",
      "corge\n",
      "corge\n"
     ]
    }
   ],
   "source": [
    "a = ['foo', 'bar', 'baz', 'qux', 'quux', 'corge']\n",
    "print(a[0]) # first elemet\n",
    "print(a[3]) # fourth element\n",
    "print(a[-1]) # last element. Also, we can use \n",
    "print(a[len(a)-1])"
   ]
  },
  {
   "cell_type": "markdown",
   "metadata": {},
   "source": [
    "Slicing also works. If a is a list, the expression a[m:n] returns the portion of a from index m to, but not including, index n:"
   ]
  },
  {
   "cell_type": "code",
   "execution_count": 16,
   "metadata": {
    "scrolled": true
   },
   "outputs": [
    {
     "name": "stdout",
     "output_type": "stream",
     "text": [
      "['bar', 'baz', 'qux']\n",
      "['foo', 'bar']\n",
      "['baz', 'qux', 'quux']\n"
     ]
    },
    {
     "data": {
      "text/plain": [
       "True"
      ]
     },
     "execution_count": 16,
     "metadata": {},
     "output_type": "execute_result"
    }
   ],
   "source": [
    "print(a[1:4])\n",
    "print(a[0:2])\n",
    "print(a[-4:-1])\n",
    "a[-5:-2] == a[1:4]"
   ]
  },
  {
   "cell_type": "code",
   "execution_count": 17,
   "metadata": {},
   "outputs": [
    {
     "name": "stdout",
     "output_type": "stream",
     "text": [
      "[1, 2]\n",
      "[7, 8]\n",
      "[0, 1, 2, 3, 4, 5, 6, 7, 8, 9]\n",
      "[0, 1]\n",
      "[0, 2, 4, 6, 8]\n",
      "[1, 3, 5, 7, 9]\n",
      "[0, 2, 4, 6, 8]\n",
      "[1, 3, 5]\n"
     ]
    }
   ],
   "source": [
    "a=[0,1,2,3,4,5,6,7,8,9]\n",
    "print(a[1:3])\n",
    "print(a[-3:-1])\n",
    "print(a[:])\n",
    "print(a[:2])\n",
    "print(a[::2])\n",
    "print(a[1::2])\n",
    "print(a[0::2])\n",
    "print(a[1:6:2])"
   ]
  },
  {
   "cell_type": "code",
   "execution_count": 18,
   "metadata": {},
   "outputs": [
    {
     "name": "stdout",
     "output_type": "stream",
     "text": [
      "[9, 8, 7, 6, 5, 4, 3, 2, 1, 0]\n",
      "[]\n"
     ]
    }
   ],
   "source": [
    "print(a[::-1]) # The syntax for reversing a list works the same way it does for strings:\n",
    "print(a[1:5:-1]) # may not work sliced list"
   ]
  },
  {
   "cell_type": "code",
   "execution_count": 19,
   "metadata": {},
   "outputs": [
    {
     "name": "stdout",
     "output_type": "stream",
     "text": [
      "4545652464 4545652464\n",
      "True\n"
     ]
    }
   ],
   "source": [
    "a='Hello'\n",
    "b=a[:]\n",
    "print(id(a),id(b))\n",
    "print(a is b)"
   ]
  },
  {
   "cell_type": "code",
   "execution_count": null,
   "metadata": {},
   "outputs": [],
   "source": [
    "a=['Hello','Python']\n",
    "b=a[:]\n",
    "print(id(a),id(b))\n",
    "print(a is b)"
   ]
  },
  {
   "cell_type": "code",
   "execution_count": null,
   "metadata": {},
   "outputs": [],
   "source": [
    "a=[0,1,2,3,4,5,6,7,8,9]\n",
    "print(0 in a)\n",
    "print(55 in a)\n",
    "print(0 not in a)\n",
    "print(55 not in a)"
   ]
  },
  {
   "cell_type": "code",
   "execution_count": null,
   "metadata": {},
   "outputs": [],
   "source": [
    "# The concatenation (+) and replication (*) operators:\n",
    "\n",
    "a=[2,3,4]\n",
    "print(a+a)\n",
    "print(3*a)\n",
    "b=['hello']\n",
    "print(b+b)\n",
    "print(3*b)"
   ]
  },
  {
   "cell_type": "code",
   "execution_count": null,
   "metadata": {},
   "outputs": [],
   "source": [
    "# The len(), min(), and max() functions:\n",
    "a=[2,3,4]\n",
    "print(len(a))\n",
    "print(min(a))\n",
    "print(max(a))\n",
    "a=['hello','python','cool','classroom']\n",
    "print(len(a))\n",
    "print(min(a))\n",
    "print(max(a))"
   ]
  },
  {
   "cell_type": "code",
   "execution_count": null,
   "metadata": {},
   "outputs": [],
   "source": [
    "# You can operate on a list literal as well:\n",
    "print([2,3,4][2])\n",
    "print([2,3,4][::-1])"
   ]
  },
  {
   "cell_type": "markdown",
   "metadata": {},
   "source": [
    "### Lists Can Be Nested\n",
    "\n",
    "An element in a list can be any sort of object. That includes another list. A list can contain sublists, which in turn can contain sublists themselves, and so on to arbitrary depth.\n",
    "\n",
    "```python\n",
    "x = ['a', ['bb', ['ccc', 'ddd'], 'ee', 'ff'], 'g', ['hh', 'ii'], 'j']\n",
    "```\n",
    "\n",
    "![sublist](pic/003.png)"
   ]
  },
  {
   "cell_type": "code",
   "execution_count": null,
   "metadata": {},
   "outputs": [],
   "source": [
    "x = ['a', ['bb', ['ccc', 'ddd'], 'ee', 'ff'], 'g', ['hh', 'ii'], 'j']\n",
    "print(x[0])\n",
    "print(x[1])\n",
    "print(x[2])\n",
    "print(x[3])\n",
    "print(x[4])"
   ]
  },
  {
   "cell_type": "code",
   "execution_count": null,
   "metadata": {},
   "outputs": [],
   "source": [
    "print(x[1][0])\n",
    "print(x[1][1])\n",
    "print(x[1][2])\n",
    "print(x[1][3])"
   ]
  },
  {
   "cell_type": "code",
   "execution_count": null,
   "metadata": {},
   "outputs": [],
   "source": [
    "print(x[1][1][0])\n",
    "print(x[1][1][1])"
   ]
  },
  {
   "cell_type": "code",
   "execution_count": null,
   "metadata": {},
   "outputs": [],
   "source": [
    "print('ddd' in x)\n",
    "print('ddd' in x[1])\n",
    "print('ddd' in x[1][1])\n",
    "print('ddd' in x[1][1][1])"
   ]
  },
  {
   "cell_type": "markdown",
   "metadata": {},
   "source": [
    "### Lists Are Mutable\n",
    "\n",
    "List elements (types) can be changed or assigned a new value. We cannot do this with strings. "
   ]
  },
  {
   "cell_type": "code",
   "execution_count": null,
   "metadata": {},
   "outputs": [],
   "source": [
    "a=[1,2,3,4]\n",
    "a[1]='2'\n",
    "print(a)\n",
    "print(type(a[2]))\n",
    "a[2]=float(a[2])\n",
    "print(a)\n",
    "print(type(a[2]))"
   ]
  },
  {
   "cell_type": "code",
   "execution_count": null,
   "metadata": {},
   "outputs": [],
   "source": [
    "a=[1,2,3,4] # A list item can be deleted with the del command:\n",
    "del(a[2])\n",
    "a"
   ]
  },
  {
   "cell_type": "code",
   "execution_count": null,
   "metadata": {},
   "outputs": [],
   "source": [
    "a=[0,1,2,3,4,5,6,7]\n",
    "a[4:-1]=[0,0,0,0]\n",
    "print(a)\n",
    "a=[0,1,2,3,4,5,6,7]\n",
    "a[4:8]=[0,0,0,0]\n",
    "print(a)\n",
    "a=[0,1,2,3,4,5,6,7]\n",
    "a[4:len(a)]=[0,0,0,0]\n",
    "print(a)\n",
    "a=[0,1,2,3,4,5,6,7]\n",
    "a[4:len(a)]=[]\n",
    "print(a)"
   ]
  },
  {
   "cell_type": "code",
   "execution_count": null,
   "metadata": {},
   "outputs": [],
   "source": [
    "# Prepending or Appending Items to a List\n",
    "# Additional items can be added to the start or end of a list using the +\n",
    "# concatenation operator or the += augmented assignment operator:\n",
    "\n",
    "a = [1,2,3,4]\n",
    "a+=[-4,-5]\n",
    "print(a)\n",
    "print([0,0]+a+[10])\n",
    "# print([0,0]+a+10) # A list must be concatenated with another list\n",
    "# a+=10\n",
    "# a += '10'"
   ]
  },
  {
   "cell_type": "markdown",
   "metadata": {},
   "source": [
    "###  Methods That Modify a List\n",
    "\n",
    "**a.append(<obj>)**\n",
    "\n",
    "> Appends an object to a list.\n",
    "\n",
    "``` python\n",
    ">>> a = [1, 2]\n",
    ">>> a.append('hello')\n",
    ">>> a\n",
    "[1,2,'hello']\n",
    "```\n",
    "Also append list in another list\n",
    "\n",
    "``` python\n",
    ">>> a = [1, 2]\n",
    ">>> a.append([4,5])\n",
    ">>> a\n",
    "[1, 2, [4, 5]]\n",
    ">>> a.append(4,5) # will create an error\n",
    "# TypeError: append() takes exactly one argument (2 given)\n",
    "```\n",
    "\n",
    "**a.extend(<iterable>)**\n",
    "\n",
    "> Extends a list with the objects from an iterable.\n",
    "\n",
    "``` python\n",
    ">>> a = ['a', 'b']\n",
    ">>> a.extend([1, 2, 3])\n",
    ">>> a\n",
    "['a', 'b', 1, 2, 3]\n",
    "```\n",
    "extent behaves like + operator. \n",
    "\n",
    "```python\n",
    ">>> a = ['a', 'b']\n",
    ">>> a += [1, 2, 3]\n",
    ">>> a\n",
    "['a', 'b', 1, 2, 3]\n",
    "```\n",
    "\n",
    "***a.insert(index, obj)***\n",
    "    \n",
    ">Inserts an object into a list.\n",
    "\n",
    "```python\n",
    ">>> a = [0,1,2,4,5]\n",
    ">>> a.insert(3, 3)\n",
    ">>> a[3]\n",
    "3\n",
    ">>> a\n",
    "[0, 1, 2, 3, 4, 5]\n",
    "```\n",
    "***a.remove(obj)***\n",
    ">Removes an object from a list.\n",
    "\n",
    "```python\n",
    ">>> a = [0,1,2,4,5]\n",
    ">>> a.remove(2)\n",
    "a\n",
    "[0, 1, 4, 5]\n",
    "# If there are more than one same element\n",
    "a = [0,1,2,4,5,2]\n",
    "a.remove(2)\n",
    "a\n",
    "[0, 1, 4, 5, 2]\n",
    ">>> a.remove(2)\n",
    "a\n",
    "[0, 1, 4, 5]\n",
    "```\n",
    "***a.pop(index=-1)***\n",
    ">Removes an element from a list.\n",
    "\n",
    "```python\n",
    ">>> a = [0,1,2,4,5,2]\n",
    ">>> a.pop(2)\n",
    "a\n",
    ">>> a.pop(-1)\n",
    "a\n",
    "[0, 1, 4, 5]\n",
    "```\n",
    "```a.pop()``` removes the last item in the list:"
   ]
  },
  {
   "cell_type": "markdown",
   "metadata": {},
   "source": [
    "### Lists Are Dynamic\n",
    "\n",
    "When we add new items to a list size grows."
   ]
  },
  {
   "cell_type": "markdown",
   "metadata": {},
   "source": [
    "# 5. Tuples\n",
    "\n",
    "Another type of data collection in Python is called tuple. Tuples are similar to lists except:\n",
    "\n",
    "* Tuples are defined by enclosing the elements in parentheses ```( )```\n",
    "* Tuples are immutable.\n"
   ]
  },
  {
   "cell_type": "code",
   "execution_count": null,
   "metadata": {},
   "outputs": [],
   "source": [
    "a=(1,2,3,4,5)\n",
    "type(a),id(a)"
   ]
  },
  {
   "cell_type": "code",
   "execution_count": null,
   "metadata": {},
   "outputs": [],
   "source": [
    "a=(1,2,3,4,5)\n",
    "print(a[1])\n",
    "print(a[:2])\n",
    "print(a[-1])\n",
    "print(a[::1])"
   ]
  },
  {
   "cell_type": "code",
   "execution_count": null,
   "metadata": {},
   "outputs": [],
   "source": [
    "a=(1,2,3,4,5)\n",
    "# a[1]=2  # tuples are immutable"
   ]
  },
  {
   "cell_type": "markdown",
   "metadata": {},
   "source": [
    "Why use a tuple instead of a list?\n",
    "\n",
    "* Program execution is faster when manipulating a tuple than it is for the equivalent list. (This is probably not going to be noticeable when the list or tuple is small.)\n",
    "\n",
    "* Sometimes you don’t want data to be modified. If the values in the collection are meant to remain constant for the life of the program, using a tuple instead of a list guards against accidental modification.\n",
    "\n",
    "* There is another Python data type that you will encounter shortly called a dictionary, which requires as one of its components a value that is of an immutable type. A tuple can be used for this purpose, whereas a list can’t be."
   ]
  },
  {
   "cell_type": "code",
   "execution_count": null,
   "metadata": {},
   "outputs": [],
   "source": [
    "a=10\n",
    "b=8\n",
    "c='test'\n"
   ]
  },
  {
   "cell_type": "code",
   "execution_count": null,
   "metadata": {},
   "outputs": [],
   "source": [
    "a,b,c"
   ]
  },
  {
   "cell_type": "code",
   "execution_count": null,
   "metadata": {},
   "outputs": [],
   "source": [
    "a=[1,2,3]\n",
    "b=tuple(a)\n",
    "c=list(b)\n",
    "d=()\n",
    "e=(1)\n",
    "type(a),type(b),type(c),type(d),type(e)\n",
    "\n",
    "# d=(1,) # How can we display single tuple element\n",
    "# type(e)"
   ]
  },
  {
   "cell_type": "markdown",
   "metadata": {},
   "source": [
    "## References\n",
    "\n",
    "* [**Intro to Python for Computer Science and Data Science: Learning to Program with AI, Big Data and the Cloud**](https://amzn.to/2VvdnxE).\n",
    " \n",
    "* https://realpython.com/"
   ]
  },
  {
   "cell_type": "code",
   "execution_count": null,
   "metadata": {},
   "outputs": [],
   "source": []
  }
 ],
 "metadata": {
  "author": "mes",
  "kernelspec": {
   "display_name": "Python 3 (ipykernel)",
   "language": "python",
   "name": "python3"
  },
  "language_info": {
   "codemirror_mode": {
    "name": "ipython",
    "version": 3
   },
   "file_extension": ".py",
   "mimetype": "text/x-python",
   "name": "python",
   "nbconvert_exporter": "python",
   "pygments_lexer": "ipython3",
   "version": "3.9.15"
  },
  "latex_envs": {
   "LaTeX_envs_menu_present": true,
   "autoclose": false,
   "autocomplete": true,
   "bibliofile": "biblio.bib",
   "cite_by": "apalike",
   "current_citInitial": 1,
   "eqLabelWithNumbers": true,
   "eqNumInitial": 1,
   "hotkeys": {
    "equation": "Ctrl-E",
    "itemize": "Ctrl-I"
   },
   "labels_anchors": false,
   "latex_user_defs": false,
   "report_style_numbering": false,
   "user_envs_cfg": false
  },
  "toc": {
   "base_numbering": 1,
   "nav_menu": {},
   "number_sections": false,
   "sideBar": true,
   "skip_h1_title": false,
   "title_cell": "Table of Contents",
   "title_sidebar": "Contents",
   "toc_cell": false,
   "toc_position": {},
   "toc_section_display": true,
   "toc_window_display": false
  }
 },
 "nbformat": 4,
 "nbformat_minor": 4
}
