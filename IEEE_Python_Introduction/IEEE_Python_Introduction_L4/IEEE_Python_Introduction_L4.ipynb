{
 "cells": [
  {
   "cell_type": "markdown",
   "metadata": {},
   "source": [
    "# IEEE Future Networks World Forum - Session 1: Introduction to Python Programming - L4\n",
    "\n",
    "\n",
    "# Conditional Statements and Loops in Python\n",
    "\n",
    "* ## if / if-else / if-elif-else\n",
    "\n",
    "* ## While Loops\n",
    "\n",
    "* ## For loops"
   ]
  },
  {
   "cell_type": "markdown",
   "metadata": {},
   "source": [
    "## 1.  ```if``` Statement \n",
    "\n",
    "```python \n",
    "if <condition>:\n",
    "    <statement> \n",
    "```\n",
    "\n",
    "We can have many statements in ```if``` block (same indentation )\n",
    "\n",
    "```python\n",
    "<code>\n",
    "if <condition>:\n",
    "    <statement A>\n",
    "    <statement B>\n",
    "    ...\n",
    "    <statement N>\n",
    "<code>\n",
    "```\n",
    "Nested ```if``` statements can be used:\n",
    "\n",
    "```python\n",
    "<code>\n",
    "if <condition A>:\n",
    "    <statement A>\n",
    "    if <condition B>:\n",
    "        <statement B>\n",
    "        if <condition C>:\n",
    "            <statement C>\n",
    "<code>\n",
    "```"
   ]
  },
  {
   "cell_type": "code",
   "execution_count": null,
   "metadata": {},
   "outputs": [],
   "source": [
    "salary = 40000\n",
    "sale=10000\n",
    "bonus=5000\n",
    "\n",
    "if sale >= 100000:\n",
    "    salary +=bonus\n",
    "\n",
    "print(f'Your salary: {salary}')"
   ]
  },
  {
   "cell_type": "code",
   "execution_count": null,
   "metadata": {},
   "outputs": [],
   "source": [
    "salary = 40000\n",
    "sale=120000\n",
    "bonus=5000\n",
    "\n",
    "if sale >= 100000:\n",
    "    salary +=bonus\n",
    "    print(f'GREAT JOB !')\n",
    "print(f'Your salary: {salary}')"
   ]
  },
  {
   "cell_type": "code",
   "execution_count": null,
   "metadata": {},
   "outputs": [],
   "source": [
    "salary = 45000\n",
    "sale=120000\n",
    "bonus=5000\n",
    "extrabonus=2000\n",
    "\n",
    "if sale >= 100000:\n",
    "    salary +=bonus\n",
    "    print(f'GREAT JOB !')\n",
    "    if salary <= 40000:\n",
    "        salary +=extrabonus\n",
    "        print(f'EXTRA BONUS TIME !')\n",
    "   \n",
    "print(f'Your salary: {salary}')\n",
    "# FIND THE BUG"
   ]
  },
  {
   "cell_type": "markdown",
   "metadata": {},
   "source": [
    "## 2.  ```if-else``` Statement \n",
    "\n",
    "```python \n",
    "<code>\n",
    "if <condition>:\n",
    "    <statement(s) A>\n",
    "else:\n",
    "    <statement(s) B>\n",
    "<code>\n",
    "```\n",
    "\n",
    "Nested ```if-else``` statements can be used:\n",
    "\n",
    "```python\n",
    "<code>\n",
    "<code>\n",
    "if <condition A>:\n",
    "    <statement A>\n",
    "    if <condition B>:\n",
    "        <statement B> \n",
    "    else:\n",
    "        <statement C>\n",
    "else:\n",
    "    <statement(s) D>\n",
    "<code>\n",
    "```"
   ]
  },
  {
   "cell_type": "code",
   "execution_count": null,
   "metadata": {},
   "outputs": [],
   "source": [
    "salary = 40000\n",
    "sale=10000\n",
    "bonus=5000\n",
    "\n",
    "if sale >= 100000:\n",
    "    salary +=bonus\n",
    "    print(f'GREAT JOB !')\n",
    "else:\n",
    "    print(f'No BONUS for you')\n",
    "print(f'Your salary: {salary}')"
   ]
  },
  {
   "cell_type": "markdown",
   "metadata": {},
   "source": [
    "## 3.  ```if-elif-else``` Statement \n",
    "\n",
    "```python \n",
    "<code>\n",
    "if <condition A>:\n",
    "    <statement(s) A>\n",
    "elif <condition B>:\n",
    "    <statement(s) B>\n",
    "elif <condition C>:\n",
    "    <statement(s) C>    \n",
    "else:\n",
    "    <statement(s) D>\n",
    "<code>\n",
    "```"
   ]
  },
  {
   "cell_type": "code",
   "execution_count": null,
   "metadata": {},
   "outputs": [],
   "source": [
    "salary = 40000\n",
    "sale=1220000\n",
    "bonus=5000\n",
    "\n",
    "if sale >= 100000:\n",
    "    salary +=bonus\n",
    "    print(f'GREAT JOB !')\n",
    "elif sale >= 200000:\n",
    "    salary +=2*bonus\n",
    "    print(f'GREAT JOB ! DOUBLE BONUS')\n",
    "else:\n",
    "    print(f'No BONUS for you')\n",
    "print(f'Your salary: {salary}')\n",
    "# Find the bug\n"
   ]
  },
  {
   "cell_type": "code",
   "execution_count": null,
   "metadata": {},
   "outputs": [],
   "source": [
    "salary = 40000\n",
    "sale=1220000\n",
    "bonus=5000\n",
    "\n",
    "if sale < 200000 and sale >= 100000:\n",
    "    salary +=bonus\n",
    "    print(f'GREAT JOB !')\n",
    "elif sale >= 200000:\n",
    "    salary +=2*bonus\n",
    "    print(f'GREAT JOB ! DOUBLE BONUS')\n",
    "else:\n",
    "    print(f'No BONUS for you')\n",
    "print(f'Your salary: {salary}')\n",
    "# Find the bug"
   ]
  },
  {
   "cell_type": "markdown",
   "metadata": {},
   "source": [
    "### ONE LINE IF STAEMENTS\n",
    "\n",
    "```python\n",
    "if <condition>:\n",
    "    <statement>\n",
    "\n",
    "if <condition>: <statement>\n",
    "    \n",
    "if <condition>: <statement(A)>; <statement(B)>; ...; <statement(N)>\n",
    "    \n",
    "<statement> if <conditional> else <statement>\n",
    "```"
   ]
  },
  {
   "cell_type": "code",
   "execution_count": null,
   "metadata": {},
   "outputs": [],
   "source": [
    "a=10; b=20\n",
    "\n",
    "if a>b:\n",
    "    x=10\n",
    "else:\n",
    "    x=20\n",
    "print(f'{x}')\n",
    "\n",
    "x = 10 if a>b else 20 \n",
    "\n",
    "print(f'{x}')"
   ]
  },
  {
   "cell_type": "code",
   "execution_count": null,
   "metadata": {},
   "outputs": [],
   "source": [
    "a=10; b=10\n",
    "\n",
    "x = (10 if a>b else\n",
    "     20 if a==b else\n",
    "     30)\n",
    "\n",
    "print(f'{x}')"
   ]
  },
  {
   "cell_type": "code",
   "execution_count": null,
   "metadata": {},
   "outputs": [],
   "source": [
    "Grade = 75\n",
    "\n",
    "x = ('A' if Grade>=89.5 else\n",
    "     'B' if Grade>=79.5 else\n",
    "     'C' if Grade>=69.5 else\n",
    "     'D' if Grade>=59.5 else\n",
    "     'F')\n",
    "\n",
    "print(f'{x}')"
   ]
  },
  {
   "cell_type": "code",
   "execution_count": null,
   "metadata": {},
   "outputs": [],
   "source": [
    "salary = 40000\n",
    "sale=10000\n",
    "bonus=5000\n",
    "\n",
    "if sale >= 100000:\n",
    "    salary +=bonus\n",
    "\n",
    "print(f'Your salary: {salary}')\n",
    "# print(f'Your salary: {salary} and your bonus is {bonus if sale>=100000 else 0}')"
   ]
  },
  {
   "cell_type": "markdown",
   "metadata": {},
   "source": [
    "### PASS Statement\n",
    "\n",
    "```python\n",
    "\n",
    "salary = 40000\n",
    "sale=10000\n",
    "bonus=5000\n",
    "\n",
    "if salary>=100000:\n",
    "    {\n",
    "    }\n",
    "\n",
    "print(f'Your salary: {salary}')\n",
    "\n",
    "```"
   ]
  },
  {
   "cell_type": "code",
   "execution_count": null,
   "metadata": {},
   "outputs": [],
   "source": [
    "salary = 40000\n",
    "sale=1000000\n",
    "bonus=5000\n",
    "\n",
    "if sale>=100000:\n",
    "    {\n",
    "    }   # pass -> Place holder\n",
    "\n",
    "print(f'Your salary: {salary}')"
   ]
  },
  {
   "cell_type": "markdown",
   "metadata": {},
   "source": [
    "# WHILE LOOP\n",
    "\n",
    "There are two types of iterations:\n",
    "\n",
    "* indefinite iteration:\n",
    "* definite iteration:\n",
    "\n",
    "```python\n",
    "<code>\n",
    "while <expr>:\n",
    "    <statement(s)>\n",
    "<code>\n",
    "```"
   ]
  },
  {
   "cell_type": "code",
   "execution_count": null,
   "metadata": {},
   "outputs": [],
   "source": [
    "a=10\n",
    "\n",
    "while a<10:\n",
    "    print(a)\n",
    "    a=a-1\n",
    "print('DONE')"
   ]
  },
  {
   "cell_type": "code",
   "execution_count": null,
   "metadata": {},
   "outputs": [],
   "source": [
    "a=10\n",
    "\n",
    "while a>1:\n",
    "    print(a)\n",
    "    a=a-1\n",
    "print('DONE')"
   ]
  },
  {
   "cell_type": "code",
   "execution_count": null,
   "metadata": {},
   "outputs": [],
   "source": [
    "a=10\n",
    "\n",
    "while a>0:\n",
    "    a-=1\n",
    "    print(a)\n",
    "print('DONE')"
   ]
  },
  {
   "cell_type": "code",
   "execution_count": null,
   "metadata": {},
   "outputs": [],
   "source": [
    "x=[1,2,3,4]\n",
    "while x:\n",
    "    print(f'{x.pop(-1)**2}')\n",
    "x=[1,2,3,4]\n",
    "print('++++++++++++')\n",
    "while x:\n",
    "    print(f'{x.pop(0)**2}')    "
   ]
  },
  {
   "cell_type": "code",
   "execution_count": null,
   "metadata": {},
   "outputs": [],
   "source": [
    "x=[1,2,3,4]\n",
    "while x:\n",
    "    x.pop(-1)\n",
    "    print(f'jello')"
   ]
  },
  {
   "cell_type": "markdown",
   "metadata": {},
   "source": [
    "## ```break``` and ```continue``` Statements\n",
    "\n",
    "* ```break``` statement terminates the loop. \n",
    "* ```continue``` statement terminates the current loop iteration.\n"
   ]
  },
  {
   "cell_type": "code",
   "execution_count": null,
   "metadata": {},
   "outputs": [],
   "source": [
    "x = 10\n",
    "while x > 0:\n",
    "    x -= 1\n",
    "    if x == 4:\n",
    "        break\n",
    "    print(f'number is {x}')\n",
    "print('DONE !')"
   ]
  },
  {
   "cell_type": "code",
   "execution_count": null,
   "metadata": {},
   "outputs": [],
   "source": [
    "x = 10\n",
    "while x > 0:\n",
    "    x -= 1\n",
    "    if x == 4:\n",
    "        continue\n",
    "    print(f'number is {x}')\n",
    "print('DONE !')"
   ]
  },
  {
   "cell_type": "markdown",
   "metadata": {},
   "source": [
    "```While - else``` \n",
    "\n",
    "```python\n",
    "while <iteration>:\n",
    "    <statement A>\n",
    "else:\n",
    "    <statement B>\n",
    "```\n",
    "How about \n",
    "\n",
    "```python\n",
    "while <iteration>:\n",
    "    <statement A>\n",
    "<statement B>\n",
    "```"
   ]
  },
  {
   "cell_type": "code",
   "execution_count": null,
   "metadata": {},
   "outputs": [],
   "source": [
    "x = 10\n",
    "while x > 0:\n",
    "    x -= 1\n",
    "    if x == 4:\n",
    "        break\n",
    "    print(f'number is {x}')\n",
    "else:\n",
    "    print('COOL')\n",
    "print('DONE !')"
   ]
  },
  {
   "cell_type": "code",
   "execution_count": null,
   "metadata": {},
   "outputs": [],
   "source": [
    "x = 10\n",
    "while x > 0:\n",
    "    x -= 1\n",
    "    if x == 4:\n",
    "        continue\n",
    "    print(f'number is {x}')\n",
    "else:\n",
    "    print('COOL')\n",
    "print('DONE !')"
   ]
  },
  {
   "cell_type": "markdown",
   "metadata": {},
   "source": [
    "## Infinite Loops"
   ]
  },
  {
   "cell_type": "code",
   "execution_count": null,
   "metadata": {},
   "outputs": [],
   "source": [
    "while True:\n",
    "    print('hello')"
   ]
  },
  {
   "cell_type": "code",
   "execution_count": 2,
   "metadata": {},
   "outputs": [
    {
     "name": "stdout",
     "output_type": "stream",
     "text": [
      "jello\n",
      "jello\n",
      "jello\n",
      "jello\n"
     ]
    }
   ],
   "source": [
    "x=[1,2,3,4]\n",
    "while True:\n",
    "    if not x:\n",
    "        break\n",
    "    x.pop(-1)\n",
    "    print(f'jello')"
   ]
  },
  {
   "cell_type": "markdown",
   "metadata": {},
   "source": [
    "## Nested While Loops\n",
    "\n",
    "```python\n",
    "while <iter1>:\n",
    "    statement A1\n",
    "    statement A2\n",
    "\n",
    "    while <iter2>:\n",
    "        statement B1\n",
    "        statement B2\n",
    "```"
   ]
  },
  {
   "cell_type": "code",
   "execution_count": 4,
   "metadata": {},
   "outputs": [
    {
     "name": "stdout",
     "output_type": "stream",
     "text": [
      "1 A\n",
      "1 B\n",
      "2 A\n",
      "2 B\n",
      "3 A\n",
      "3 B\n",
      "4 A\n",
      "4 B\n"
     ]
    }
   ],
   "source": [
    "x=[1,2,3,4]\n",
    "while x:\n",
    "    y=['A','B']\n",
    "    m=x.pop(0)\n",
    "    while y:\n",
    "        n=y.pop(0)\n",
    "        print(m,n)"
   ]
  },
  {
   "cell_type": "markdown",
   "metadata": {},
   "source": [
    "## one-line while loops"
   ]
  },
  {
   "cell_type": "code",
   "execution_count": 5,
   "metadata": {},
   "outputs": [
    {
     "name": "stdout",
     "output_type": "stream",
     "text": [
      "hello\n",
      "hello\n",
      "hello\n",
      "hello\n",
      "hello\n",
      "hello\n",
      "hello\n",
      "hello\n",
      "hello\n",
      "hello\n"
     ]
    }
   ],
   "source": [
    "x=10\n",
    "while x > 0: x = x- 1; print('hello')"
   ]
  },
  {
   "cell_type": "markdown",
   "metadata": {},
   "source": [
    "# ```for``` loops\n",
    "\n",
    "Like the while loop the for loop is a programming language statement, i.e. an iteration statement, which allows a code block to be repeated a certain number of times.\n",
    "\n",
    "```python\n",
    "for <variable> in <sequence>:\n",
    "\t<statements>\n",
    "```"
   ]
  },
  {
   "cell_type": "code",
   "execution_count": 8,
   "metadata": {},
   "outputs": [
    {
     "name": "stdout",
     "output_type": "stream",
     "text": [
      "number 1\n",
      "number 2\n",
      "number 3\n",
      "number 4\n",
      "number 5\n",
      "number 6\n",
      "number 7\n",
      "number 8\n",
      "DONE\n"
     ]
    }
   ],
   "source": [
    "x = [1, 2,3,4,5,6,7,8]\n",
    "for i in x:\n",
    "    print(f'number {i}')\n",
    "print(\"DONE\")"
   ]
  },
  {
   "cell_type": "code",
   "execution_count": 10,
   "metadata": {},
   "outputs": [
    {
     "name": "stdout",
     "output_type": "stream",
     "text": [
      "number 0\n",
      "number 1\n",
      "number 2\n",
      "number 3\n",
      "number 4\n",
      "number 5\n",
      "number 6\n",
      "number 7\n",
      "number 8\n",
      "number 9\n",
      "DONE\n"
     ]
    }
   ],
   "source": [
    "# Using range\n",
    "for i in range(10):\n",
    "    print(f'number {i}')\n",
    "print(\"DONE\")"
   ]
  },
  {
   "cell_type": "code",
   "execution_count": 11,
   "metadata": {},
   "outputs": [
    {
     "name": "stdout",
     "output_type": "stream",
     "text": [
      "number 2\n",
      "number 4\n",
      "number 6\n",
      "number 8\n",
      "DONE\n"
     ]
    }
   ],
   "source": [
    "for i in range(2,10,2):\n",
    "    print(f'number {i}')\n",
    "print(\"DONE\")"
   ]
  },
  {
   "cell_type": "code",
   "execution_count": 13,
   "metadata": {},
   "outputs": [
    {
     "name": "stdout",
     "output_type": "stream",
     "text": [
      "number 0,10\n",
      "number 1,20\n",
      "number 2,30\n",
      "number 3,40\n",
      "number 4,50\n",
      "number 5,60\n",
      "number 6,70\n",
      "number 7,80\n",
      "DONE\n"
     ]
    }
   ],
   "source": [
    "x = [10, 20,30,40,50,60,70,80]\n",
    "for i in range(len(x)):\n",
    "    print(f'number {i},{x[i]}')\n",
    "print(\"DONE\")"
   ]
  },
  {
   "cell_type": "code",
   "execution_count": 14,
   "metadata": {},
   "outputs": [
    {
     "name": "stdout",
     "output_type": "stream",
     "text": [
      "number 0,10\n",
      "number 1,20\n",
      "number 2,30\n",
      "number 3,40\n",
      "number 4,50\n",
      "number 5,60\n",
      "number 6,70\n",
      "number 7,80\n",
      "DONE\n"
     ]
    }
   ],
   "source": [
    "x = [10, 20,30,40,50,60,70,80]\n",
    "for i,j in enumerate(x):\n",
    "    print(f'number {i},{j}')\n",
    "print(\"DONE\")"
   ]
  },
  {
   "cell_type": "code",
   "execution_count": 15,
   "metadata": {},
   "outputs": [
    {
     "name": "stdout",
     "output_type": "stream",
     "text": [
      "number 1,1,1\n",
      "number 2,4,8\n",
      "number 3,9,27\n",
      "number 4,16,64\n",
      "DONE\n"
     ]
    }
   ],
   "source": [
    "# EXAMPLE: print x,x^2,x^3\n",
    "x = [1, 2,3,4]\n",
    "for i in x:\n",
    "    print(f'number {i},{i**2},{i**3}')\n",
    "print(\"DONE\")\n"
   ]
  },
  {
   "cell_type": "code",
   "execution_count": 18,
   "metadata": {},
   "outputs": [
    {
     "name": "stdout",
     "output_type": "stream",
     "text": [
      "number 10\n",
      "number 40\n",
      "number 90\n",
      "number 160\n",
      "DONE\n"
     ]
    }
   ],
   "source": [
    "# EXAMPLE: print x=[1,2,3,4] and y=[10,20,30,40] , x*y\n",
    "x = [1, 2,3,4]\n",
    "y=[10,20,30,40]\n",
    "for i,j in zip(x,y):\n",
    "    print(f'number {i*j}')\n",
    "print(\"DONE\")"
   ]
  },
  {
   "cell_type": "markdown",
   "metadata": {},
   "source": [
    "# ```for-else``` loops\n",
    "\n",
    "Like the while loop the for loop is a programming language statement, i.e. an iteration statement, which allows a code block to be repeated a certain number of times.\n",
    "\n",
    "```python\n",
    "for <variable> in <sequence>:\n",
    "\t<statements>\n",
    "else:\n",
    "\t<statements>"
   ]
  },
  {
   "cell_type": "code",
   "execution_count": 26,
   "metadata": {},
   "outputs": [
    {
     "name": "stdout",
     "output_type": "stream",
     "text": [
      "number 10\n",
      "number 40\n",
      "number 90\n",
      "number 160\n",
      "HELLO\n",
      "DONE\n"
     ]
    }
   ],
   "source": [
    "x = [1, 2,3,4]\n",
    "y=[10,20,30,40]\n",
    "for i,j in zip(x,y):\n",
    "    print(f'number {i*j}')\n",
    "else:\n",
    "    print('HELLO')\n",
    "print(\"DONE\")"
   ]
  },
  {
   "cell_type": "code",
   "execution_count": 7,
   "metadata": {},
   "outputs": [
    {
     "name": "stdout",
     "output_type": "stream",
     "text": [
      "number 1\n",
      "number 2\n",
      "number 3\n",
      "number 4\n",
      "There is 5 in x\n",
      "DONE\n"
     ]
    }
   ],
   "source": [
    "x = [1, 2,3,4,5,6,7,8]\n",
    "for i in x:\n",
    "    if i == 5:\n",
    "        print(\"There is 5 in x\")\n",
    "        break\n",
    "    print(f'number {i}')\n",
    "else:\n",
    "    print(\"HAHA\")\n",
    "print(\"DONE\")"
   ]
  },
  {
   "cell_type": "code",
   "execution_count": 21,
   "metadata": {},
   "outputs": [
    {
     "name": "stdout",
     "output_type": "stream",
     "text": [
      "number 1\n",
      "number 2\n",
      "number 3\n",
      "number 4\n",
      "number 6\n",
      "number 7\n",
      "number 8\n",
      "HAHA\n",
      "DONE\n"
     ]
    }
   ],
   "source": [
    "x = [1, 2,3,4,5,6,7,8]\n",
    "for i in x:\n",
    "    if i == 5:\n",
    "        #print(\"There is 5 in x\")\n",
    "        continue\n",
    "    print(f'number {i}')\n",
    "else:\n",
    "    print(\"HAHA\")\n",
    "print(\"DONE\")"
   ]
  },
  {
   "cell_type": "code",
   "execution_count": 24,
   "metadata": {},
   "outputs": [
    {
     "name": "stdout",
     "output_type": "stream",
     "text": [
      "['red', 'black', 'white']\n"
     ]
    }
   ],
   "source": [
    "# Find bug\n",
    "color = [\"red\"]\n",
    "for i in color:\n",
    "    if i == \"red\":\n",
    "        color += [\"black\"]\n",
    "    if i == \"black\":\n",
    "        color += [\"white\"]\n",
    "print(color)"
   ]
  },
  {
   "cell_type": "code",
   "execution_count": 25,
   "metadata": {},
   "outputs": [
    {
     "name": "stdout",
     "output_type": "stream",
     "text": [
      "['red', 'black']\n"
     ]
    }
   ],
   "source": [
    "color = [\"red\"]\n",
    "for i in color[:]:\n",
    "    if i == \"red\":\n",
    "        color += [\"black\"]\n",
    "    if i == \"black\":\n",
    "        color += [\"white\"]\n",
    "print(color)"
   ]
  },
  {
   "cell_type": "markdown",
   "metadata": {},
   "source": [
    "## List Comprehensions\n"
   ]
  },
  {
   "cell_type": "code",
   "execution_count": 27,
   "metadata": {},
   "outputs": [
    {
     "name": "stdout",
     "output_type": "stream",
     "text": [
      "[1, 4, 9, 16]\n"
     ]
    }
   ],
   "source": [
    "#create a list with x=y^2\n",
    "x=[]\n",
    "y=[1,2,3,4]\n",
    "for i in y:\n",
    "    x.append(i**2)\n",
    "print(x)"
   ]
  },
  {
   "cell_type": "code",
   "execution_count": 28,
   "metadata": {},
   "outputs": [
    {
     "data": {
      "text/plain": [
       "[1, 4, 9, 16]"
      ]
     },
     "execution_count": 28,
     "metadata": {},
     "output_type": "execute_result"
    }
   ],
   "source": [
    "# (resulting values) = [(expression) for (value) in (collection)]\n",
    "x=[i**2 for i in y]\n",
    "x"
   ]
  },
  {
   "cell_type": "code",
   "execution_count": 29,
   "metadata": {},
   "outputs": [
    {
     "data": {
      "text/plain": [
       "[2, 4, 4, 6, 8, 0, 2, 4]"
      ]
     },
     "execution_count": 29,
     "metadata": {},
     "output_type": "execute_result"
    }
   ],
   "source": [
    "# filtering\n",
    "# we will find even numbers in a list\n",
    "y=[1,2,3,4,4,5,6,7,8,9,0,1,2,3,4,5]\n",
    "x = [i for i in y if i % 2 == 0]\n",
    "x"
   ]
  },
  {
   "cell_type": "code",
   "execution_count": 34,
   "metadata": {},
   "outputs": [
    {
     "data": {
      "text/plain": [
       "[36, 64]"
      ]
     },
     "execution_count": 34,
     "metadata": {},
     "output_type": "execute_result"
    }
   ],
   "source": [
    "even = [x * x for x in range(10) if x % 2 == 0]\n",
    "even = [x * x for x in range(10) if x % 2 == 0 and x>5]\n",
    "even"
   ]
  },
  {
   "cell_type": "markdown",
   "metadata": {},
   "source": [
    "## References\n",
    "\n",
    "* [**Intro to Python for Computer Science and Data Science: Learning to Program with AI, Big Data and the Cloud**](https://amzn.to/2VvdnxE).\n",
    " \n",
    "* https://realpython.com/"
   ]
  },
  {
   "cell_type": "code",
   "execution_count": null,
   "metadata": {},
   "outputs": [],
   "source": []
  }
 ],
 "metadata": {
  "kernelspec": {
   "display_name": "Python 3 (ipykernel)",
   "language": "python",
   "name": "python3"
  },
  "language_info": {
   "codemirror_mode": {
    "name": "ipython",
    "version": 3
   },
   "file_extension": ".py",
   "mimetype": "text/x-python",
   "name": "python",
   "nbconvert_exporter": "python",
   "pygments_lexer": "ipython3",
   "version": "3.9.15"
  },
  "latex_envs": {
   "LaTeX_envs_menu_present": true,
   "autoclose": false,
   "autocomplete": true,
   "bibliofile": "biblio.bib",
   "cite_by": "apalike",
   "current_citInitial": 1,
   "eqLabelWithNumbers": true,
   "eqNumInitial": 1,
   "hotkeys": {
    "equation": "Ctrl-E",
    "itemize": "Ctrl-I"
   },
   "labels_anchors": false,
   "latex_user_defs": false,
   "report_style_numbering": false,
   "user_envs_cfg": false
  },
  "toc": {
   "base_numbering": 1,
   "nav_menu": {},
   "number_sections": false,
   "sideBar": true,
   "skip_h1_title": false,
   "title_cell": "Table of Contents",
   "title_sidebar": "Contents",
   "toc_cell": false,
   "toc_position": {},
   "toc_section_display": true,
   "toc_window_display": true
  }
 },
 "nbformat": 4,
 "nbformat_minor": 4
}
