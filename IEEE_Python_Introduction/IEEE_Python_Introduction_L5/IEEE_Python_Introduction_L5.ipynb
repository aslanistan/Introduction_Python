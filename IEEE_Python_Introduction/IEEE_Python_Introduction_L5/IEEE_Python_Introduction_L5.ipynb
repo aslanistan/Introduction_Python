{
 "cells": [
  {
   "cell_type": "markdown",
   "metadata": {},
   "source": [
    "# IEEE Future Networks World Forum - Session 1: Introduction to Python Programming - L5\n",
    "\n",
    "# Reading and Writing Files in Python \n",
    "\n",
    "Python has built-in functions for creating, writing and reading and updating files. Python can handle two different type of files normal text files and binary files.\n",
    "\n",
    "* Text files: This type of file contains strings and numbers. It is terminated with special character ```\\n``` for end of line termination. \n",
    "* Binary files: This is basically binary numbers that are stored without having an end-line terminator. Most of the non text files such as images, videos and exe files can be stored in binary format.\n",
    "\n",
    "``` <object> = open(<file_name>,<mode>) ```\n",
    "\n",
    "As an example:\n",
    "\n",
    "``` outF = open(\"hello.txt\", \"w\") ```\n",
    "\n",
    "|Mode | Comment|\n",
    "|:-----|:--------|\n",
    "|r | Open file for reading only. This is also default|\n",
    "|rb | Open file for reading in binary format|\n",
    "|r+ | Open file for reading and writing|\n",
    "|w | Open file for writing only. If there is an existing file, it will be overwritten|\n",
    "|wb | Open file for writing in binary format|\n",
    "|w+ | Open file for writing and reading|\n",
    "|wb+ | Open file for writing and reading in binary format|\n",
    "|a | Open file for appending (creates a new file if file does not exist. Adding start from last line of the file|\n",
    "|ab | same as ```a``` in binary format|\n",
    "|a+ | Open file for appending for reading as well as writing|\n",
    "|ab+ | same as ```ab``` but also for reading|\n",
    "|x | Create - will create a file, returns an error if the file exist|\n",
    "\n",
    "We can fallow the following steps to create/write/modify a file. We need to \n",
    "* Open a file\n",
    "* Write/read on/from the file\n",
    "* Close the file\n",
    "\n",
    "Let's start with a simple example of writing ```Hello Everyone``` in file name ```hello.txt```.\n",
    "\n",
    "* Open a file ```<variable> = open(\"<fileName>,\"<method>\")``` \n",
    "    ```python\n",
    "outF = open(\"hello.txt\", \"w\") # \"w\" for write````\n",
    "* Write/read on/from the file\n",
    "    ```python\n",
    "outF.write(f'Hello Everyone\\n')````\n",
    "* Close the file\n",
    "   ```python\n",
    "outF.close()````\n",
    "\n",
    "\n",
    "\n",
    "\n",
    "If file path is not correct we may get an error and can go around that time of error is to generate exceptions (We will explain this in another lecture in future). \n",
    "\n",
    "```python\n",
    "try:\n",
    "    my_file_handle=open(\"D:\\\\new_dir1\\\\anotherfile.txt\")\n",
    "except IOError:\n",
    "    print(\"File not found or path is incorrect\")\n",
    "finally:\n",
    "    print(\"exit\")\n",
    "```"
   ]
  },
  {
   "cell_type": "code",
   "execution_count": 1,
   "metadata": {},
   "outputs": [],
   "source": [
    "# Create a file name hello.txt \n",
    "# (This will overwrite hello.txt if it is in the same folder)\n",
    "outF = open(\"hello.txt\", \"w\") # Open file for \"writing\"\n",
    "outF.write(f'Hello Everyone\\nhow are you?') # Write text\n",
    "outF.close() # close file"
   ]
  },
  {
   "cell_type": "markdown",
   "metadata": {},
   "source": [
    "With this method one problem will be leaving file open during the writing and possibility of forgetting to close the file. There is a method that will close the file after writing is completed. \n",
    "```python\n",
    "with open('helloNew.txt') as outF:    \n",
    "    outF.write(f'Hello Everyone new way;\\n')\n",
    "\n",
    "```"
   ]
  },
  {
   "cell_type": "code",
   "execution_count": 2,
   "metadata": {},
   "outputs": [],
   "source": [
    "with open('helloNew1.txt','x') as outF:    \n",
    "    outF.write(f'Hello Everyone new way\\n')"
   ]
  },
  {
   "cell_type": "code",
   "execution_count": 4,
   "metadata": {},
   "outputs": [],
   "source": [
    "with open('helloNew.txt','w') as outF:    \n",
    "    outF.write(f'Hello Everyone new way\\n')\n",
    "    outF.write('haha') # this is okay to write\n",
    "#outF.write('haha') # This will generate an error because file is closed.\n"
   ]
  },
  {
   "cell_type": "markdown",
   "metadata": {},
   "source": [
    "## Passing Parameters \n",
    "\n",
    "If we want to write user entered or system generated parameters to a file we may do it similar to one above. Assume we want to as user to enter their name and age and email address and save that file with their name.txt. Here is the file name and format looks like. \n",
    "\n",
    "```\n",
    "John_Smith.txt\n",
    "\n",
    "Name: John\n",
    "Last Name: Smith\n",
    "Age: 33\n",
    "Email: John_Smith@gmail.com\n",
    "```\n"
   ]
  },
  {
   "cell_type": "code",
   "execution_count": 5,
   "metadata": {},
   "outputs": [
    {
     "name": "stdin",
     "output_type": "stream",
     "text": [
      "Please enter your name:  AA\n",
      "Please enter your last name:  BB\n",
      "Please enter your age:  12\n"
     ]
    }
   ],
   "source": [
    "name=input('Please enter your name: ')\n",
    "last=input('Please enter your last name: ')\n",
    "age=int(input('Please enter your age: '))\n",
    "\n",
    "with open(f'{name}_{last}.txt','w') as outF:    \n",
    "    outF.write(f'Name: {name}\\n')\n",
    "    outF.write(f'Last: {last}\\n')\n",
    "    outF.write(f'Age: {age}\\n')\n",
    "    outF.write(f'Email: {name}_{last}@gmail.com')\n",
    "    "
   ]
  },
  {
   "cell_type": "markdown",
   "metadata": {},
   "source": [
    "## Automation  \n",
    "\n",
    "Many times, we may need to write data stream into a file. As an example we will create truth table for AND gate and write it to a file names \"AND.txt\" as shown below.\n",
    "\n",
    "```\n",
    "A   B   F\n",
    "-   -   -\n",
    "0   0   0\n",
    "0   1   0\n",
    "1   0   0 \n",
    "1   1   1\n",
    "```"
   ]
  },
  {
   "cell_type": "code",
   "execution_count": 6,
   "metadata": {},
   "outputs": [
    {
     "name": "stdout",
     "output_type": "stream",
     "text": [
      " A    B    F  \n",
      " -    -    -  \n",
      " 0    0    0  \n",
      " 0    1    0  \n",
      " 1    0    0  \n",
      " 1    1    1  \n"
     ]
    }
   ],
   "source": [
    "a=[0,0,1,1];b=[0,1,0,1]\n",
    "A='A';B='B';F='F'\n",
    "K='-'\n",
    "print(f'{A:^4} {B:^4} {F:^4}')\n",
    "print(f'{K:^4} {K:^4} {K:^4}')\n",
    "\n",
    "for i,j in zip(a,b):\n",
    "    print(f'{i:^4} {j:^4} {i and j:^4}')"
   ]
  },
  {
   "cell_type": "code",
   "execution_count": 7,
   "metadata": {},
   "outputs": [],
   "source": [
    "a=[0,0,1,1];b=[0,1,0,1]\n",
    "A='A';B='B';F='F'\n",
    "K='-'\n",
    "with open(f'AND.txt','w') as outF:    \n",
    "    outF.write(f'{A:^4} {B:^4} {F:^4}\\n')\n",
    "    outF.write(f'{K:^4} {K:^4} {K:^4}\\n')\n",
    "    for i,j in zip(a,b):\n",
    "        outF.write(f'{i:^4} {j:^4} { not(not i and j or not j and i):^4}\\n')\n"
   ]
  },
  {
   "cell_type": "markdown",
   "metadata": {},
   "source": [
    "# Reading Files\n",
    "\n",
    "```fobj = open(\"hello.txt\", \"r\")```"
   ]
  },
  {
   "cell_type": "code",
   "execution_count": null,
   "metadata": {},
   "outputs": [],
   "source": [
    "fobj = open(\"helloNew.txt\", \"r\")\n",
    "a=[]\n",
    "for line in fobj:\n",
    "    a.append(line.rstrip())\n",
    "\n",
    "fobj.close()\n",
    "print(a)"
   ]
  },
  {
   "cell_type": "code",
   "execution_count": null,
   "metadata": {},
   "outputs": [],
   "source": [
    "fobj = open(\"John_Doe.txt\", \"r\")\n",
    "a=[]\n",
    "for line in fobj:\n",
    "    a.append(line.rstrip())\n",
    "\n",
    "fobj.close()\n",
    "print(a)"
   ]
  },
  {
   "cell_type": "code",
   "execution_count": null,
   "metadata": {},
   "outputs": [],
   "source": [
    "fobj = open(\"John_Doe.txt\", \"r\")\n",
    "d={}\n",
    "for line in fobj:\n",
    "    (key, val) = line.split()\n",
    "    d[key.strip(':')] = val.strip('')\n",
    "\n",
    "fobj.close()\n",
    "print(d)"
   ]
  },
  {
   "cell_type": "code",
   "execution_count": null,
   "metadata": {},
   "outputs": [],
   "source": []
  },
  {
   "cell_type": "code",
   "execution_count": null,
   "metadata": {},
   "outputs": [],
   "source": [
    "uname = 'Bobo'\n",
    "passw = 'Abc123'\n",
    "username2 = 'Sanjin'\n",
    "password2 = 'passwordy'\n",
    "\n",
    "inName = input('please enter your username: ')\n",
    "if inName == username or inName == username2:\n",
    "    inPassword = input('please enter your password: ')\n",
    "    if inName == username and inPassword == password:\n",
    "        print('ACCESS GRANTED')\n",
    "    elif inName == username2 and inPassword == password2:\n",
    "        print('ACCESS GRANTED')\n",
    "    else: # say invalid password\n",
    "        print('that is not a valid password')\n",
    "else: # say user name is invalid\n",
    "    print('that is not a valid user name')"
   ]
  },
  {
   "cell_type": "code",
   "execution_count": 10,
   "metadata": {},
   "outputs": [
    {
     "name": "stdout",
     "output_type": "stream",
     "text": [
      "Please Enter a Username:Cooler\n",
      "Please Enter a Password:Haha\n"
     ]
    }
   ],
   "source": [
    "#f= open(\"pass.txt\",\"w\")\n",
    "f= open(\"pass.txt\",\"a+\")\n",
    "uname=input('Please Enter a Username:')\n",
    "passw=input('Please Enter a Password:')\n",
    "f.write(f'{uname}')\n",
    "f.write(f' {passw}\\n')\n",
    "f.close()"
   ]
  },
  {
   "cell_type": "code",
   "execution_count": 6,
   "metadata": {},
   "outputs": [
    {
     "name": "stdout",
     "output_type": "stream",
     "text": [
      "Please Enter a Username to remove:Ha\n",
      "Please Enter a Password:Na\n"
     ]
    }
   ],
   "source": [
    "d = {}\n",
    "with open(\"pass.txt\") as f:\n",
    "    for line in f:\n",
    "        (key, val) = line.split()\n",
    "        d[key] = val\n",
    "uname=input('Please Enter a Username to remove:')\n",
    "passw=input('Please Enter a Password:')\n",
    "for i in d:\n",
    "    if uname==i:\n",
    "        if d[i]==passw:\n",
    "            d.pop(uname)\n",
    "            break\n",
    "with open(\"pass.txt\",'w') as f:\n",
    "    for i in d:\n",
    "        f.write(f'{i} {d[i]}\\n')"
   ]
  },
  {
   "cell_type": "code",
   "execution_count": 19,
   "metadata": {},
   "outputs": [
    {
     "name": "stdout",
     "output_type": "stream",
     "text": [
      "Please Enter a Username to remove:John\n",
      "Please Enter a Password:Doe\n",
      "Name John is removed from system\n"
     ]
    }
   ],
   "source": [
    "d = {}\n",
    "with open(\"pass.txt\") as f:\n",
    "    for line in f:\n",
    "        (key, val) = line.split()\n",
    "        d[key] = val\n",
    "uname=input('Please Enter a Username to remove:')\n",
    "passw=input('Please Enter a Password:')\n",
    "for i in d:\n",
    "    if uname==i:\n",
    "        if d[i]==passw:\n",
    "            d.pop(uname)\n",
    "            print(f'Name {uname} is removed from system')\n",
    "            break\n",
    "else:\n",
    "    print('WRONG USERNAME OR PASSWORD')\n",
    "with open(\"pass.txt\",'w') as f:\n",
    "    for i in d:\n",
    "        f.write(f'{i} {d[i]}\\n')"
   ]
  },
  {
   "cell_type": "code",
   "execution_count": null,
   "metadata": {},
   "outputs": [],
   "source": [
    "d = {}\n",
    "with open(\"pass.txt\") as f:\n",
    "    for line in f:\n",
    "        (key, val) = line.split()\n",
    "        d[key] = val\n",
    "with open(\"pass1.txt\",'w') as f:\n",
    "    for i in d:\n",
    "        f.write(f'{i} {d[i]}\\n')"
   ]
  },
  {
   "cell_type": "code",
   "execution_count": 28,
   "metadata": {},
   "outputs": [
    {
     "name": "stdout",
     "output_type": "stream",
     "text": [
      "Please enter 1 of New Registration and for removal:\n"
     ]
    },
    {
     "ename": "SystemExit",
     "evalue": "Not a Valid Number Entered",
     "output_type": "error",
     "traceback": [
      "An exception has occurred, use %tb to see the full traceback.\n",
      "\u001b[0;31mSystemExit\u001b[0m\u001b[0;31m:\u001b[0m Not a Valid Number Entered\n"
     ]
    },
    {
     "name": "stderr",
     "output_type": "stream",
     "text": [
      "/Users/sa40/opt/anaconda3/envs/py36/lib/python3.6/site-packages/IPython/core/interactiveshell.py:3334: UserWarning: To exit: use 'exit', 'quit', or Ctrl-D.\n",
      "  warn(\"To exit: use 'exit', 'quit', or Ctrl-D.\", stacklevel=1)\n"
     ]
    }
   ],
   "source": [
    "import sys\n",
    "n=input(\"Please enter 1 of New Registration and for removal:\")\n",
    "if n=='1':\n",
    "    f= open(\"pass.txt\",\"a+\")    \n",
    "    uname=input('Please Enter a Username to Register:')\n",
    "    passw=input('Please Enter a Password:')\n",
    "    f.write(f'{uname}')\n",
    "    f.write(f' {passw}\\n')\n",
    "    f.close()\n",
    "elif n=='0':\n",
    "    d = {}\n",
    "    with open(\"pass.txt\") as f:\n",
    "        for line in f:\n",
    "            (key, val) = line.split()\n",
    "            d[key] = val\n",
    "    uname=input('Please Enter a Username to remove:')\n",
    "    passw=input('Please Enter a Password:')\n",
    "    for i in d:\n",
    "        if uname==i:\n",
    "            if d[i]==passw:\n",
    "                d.pop(uname)\n",
    "                print(f'Name {uname} is removed from system')\n",
    "                break\n",
    "    else:\n",
    "        print('WRONG USERNAME OR PASSWORD')\n",
    "    with open(\"pass.txt\",'w') as f:\n",
    "        for i in d:\n",
    "            f.write(f'{i} {d[i]}\\n')\n",
    "\n",
    "else:\n",
    "    sys.exit(\"Not a Valid Number Entered\")\n"
   ]
  },
  {
   "cell_type": "code",
   "execution_count": 24,
   "metadata": {},
   "outputs": [
    {
     "data": {
      "text/plain": [
       "{'Cooler': 'Haha'}"
      ]
     },
     "execution_count": 24,
     "metadata": {},
     "output_type": "execute_result"
    }
   ],
   "source": [
    "d"
   ]
  },
  {
   "cell_type": "code",
   "execution_count": 32,
   "metadata": {},
   "outputs": [
    {
     "name": "stdout",
     "output_type": "stream",
     "text": [
      "Please Enter a Username:Cool\n",
      "Please Enter a Password:Haa\n",
      "ACCESS\n",
      "You have access Now\n"
     ]
    }
   ],
   "source": [
    "import sys \n",
    "d = {}\n",
    "with open(\"pass.txt\") as f:\n",
    "    for line in f:\n",
    "        (key, val) = line.split()\n",
    "        d[key] = val\n",
    "uname=input('Please Enter a Username:')\n",
    "passw=input('Please Enter a Password:')\n",
    "for i in d:\n",
    "    if uname==i:\n",
    "        if d[i]==passw:\n",
    "            print(\"ACCESS\")\n",
    "            break\n",
    "else:\n",
    "    sys.exit(\"Username is not valid\")\n",
    "    \n",
    "print('You have access Now')"
   ]
  },
  {
   "cell_type": "code",
   "execution_count": null,
   "metadata": {},
   "outputs": [],
   "source": [
    "name=input('Please enter a file name (this will be used as module name). Enter default: FA')\n",
    "if name=='':\n",
    "    name='FA'\n",
    "A=input('Please enter the first input name. Enter default: A')\n",
    "if A=='':\n",
    "    A='A'\n",
    "B=input('Please enter the second input name. Enter default: B')\n",
    "if B=='':\n",
    "    B='B'\n",
    "Cin=input('Please enter carry input name. Enter default: Cin')\n",
    "if Cin=='':\n",
    "    Cin='Cin'\n",
    "Sum=input('Please Sum output name. Enter default: Sum :')\n",
    "if Sum=='':\n",
    "    Sum='Sum'\n",
    "Cout=input('Please Carry output name. Enter default: Cout')\n",
    "if Cout=='':\n",
    "    Cout='Cout'\n",
    "outF = open(\"FA.v\", \"w\")\n",
    "outF.write(f'module {name}({A},{B},{Cin},{Sum},{Cout});\\n')\n",
    "outF.write(f'input {A},{B},{Cin};\\n')\n",
    "outF.write(f'output {Sum},{Cout};\\n')\n",
    "outF.write(f'wire w1,w1,w2;\\n')\n",
    "outF.write(f'xor xo1({Sum},{A},{B},{Cin});\\n')\n",
    "outF.write(f'and and1(w1,{A},{B});\\n')\n",
    "outF.write(f'and and2(w2,{A},{Cin});\\n')\n",
    "outF.write(f'and and3(w3,{B},{Cin});\\n')\n",
    "outF.write(f'or or1({Cout},w1,w2,w3);\\n')\n",
    "outF.write(f'endmodule')\n",
    "outF.close()"
   ]
  },
  {
   "cell_type": "code",
   "execution_count": null,
   "metadata": {},
   "outputs": [],
   "source": [
    "n=int(input('Please enter number of bits :'))\n",
    "name='RCA';A='A';B='B';Cin='Cin';Sum='Sum';Cout='Cout'\n",
    "outRCA = open(f'RCA_{n}.v', \"w\")\n",
    "outRCA.write(f'module RCA_{n}({A},{B},{Cin},{Sum},{Cout});\\n')\n",
    "outRCA.write(f'input [{n-1}:0] {A},{B};\\n')\n",
    "outRCA.write(f'input {Cin};\\n')\n",
    "outRCA.write(f'output [{n-1}:0] {Sum};\\n')\n",
    "outRCA.write(f'output {Cout};\\n')\n",
    "outRCA.write(f'wire [{n-2}:0] w;\\n')\n",
    "\n",
    "outRCA.write(f'FA FA0{0}(A[{0}],B[{0}],Cin],Sum[{0}],w[{0}]);\\n')\n",
    "for i,j in zip(range(1,n-1),range(0,n-2)):\n",
    "    outRCA.write(f'FA FA0{i}(A[{i}],B[{i}],w[{j}],Sum[{i}],w[{j+1}]);\\n')\n",
    "outRCA.write(f'FA FA0{n-1}(A[{n-1}],B[{n-1}],w[{n-2}],Sum[{n-1}],Cout);\\n')\n",
    "outRCA.write(f'endmodule')\n",
    "outRCA.close()\n",
    "#Full Adder Design Starts here - Create a new file\n",
    "name='FA';A='A';B='B';Cin='Cin';Sum='Sum';Cout='Cout'\n",
    "outF = open(\"FA.v\", \"w\")\n",
    "outF.write(f'module {name}({A},{B},{Cin},{Sum},{Cout});\\n')\n",
    "outF.write(f'input {A},{B},{Cin};\\n')\n",
    "outF.write(f'output {Sum},{Cout};\\n')\n",
    "outF.write(f'wire w1,w1,w2;\\n')\n",
    "outF.write(f'xor xo1({Sum},{A},{B},{Cin});\\n')\n",
    "outF.write(f'and and1(w1,{A},{B});\\n')\n",
    "outF.write(f'and and2(w2,{A},{Cin});\\n')\n",
    "outF.write(f'and and3(w3,{B},{Cin});\\n')\n",
    "outF.write(f'or or1({Cout},w1,w2,w3);\\n')\n",
    "outF.write(f'endmodule')\n",
    "outF.close()\n",
    "outFA.close()"
   ]
  },
  {
   "cell_type": "markdown",
   "metadata": {},
   "source": [
    "## References\n",
    "\n",
    "* [**Intro to Python for Computer Science and Data Science: Learning to Program with AI, Big Data and the Cloud**](https://amzn.to/2VvdnxE).\n",
    " \n",
    "* https://realpython.com/"
   ]
  },
  {
   "cell_type": "code",
   "execution_count": null,
   "metadata": {},
   "outputs": [],
   "source": []
  }
 ],
 "metadata": {
  "kernelspec": {
   "display_name": "Python 3 (ipykernel)",
   "language": "python",
   "name": "python3"
  },
  "language_info": {
   "codemirror_mode": {
    "name": "ipython",
    "version": 3
   },
   "file_extension": ".py",
   "mimetype": "text/x-python",
   "name": "python",
   "nbconvert_exporter": "python",
   "pygments_lexer": "ipython3",
   "version": "3.9.15"
  },
  "latex_envs": {
   "LaTeX_envs_menu_present": true,
   "autoclose": false,
   "autocomplete": true,
   "bibliofile": "biblio.bib",
   "cite_by": "apalike",
   "current_citInitial": 1,
   "eqLabelWithNumbers": true,
   "eqNumInitial": 1,
   "hotkeys": {
    "equation": "Ctrl-E",
    "itemize": "Ctrl-I"
   },
   "labels_anchors": false,
   "latex_user_defs": false,
   "report_style_numbering": false,
   "user_envs_cfg": false
  },
  "toc": {
   "base_numbering": 1,
   "nav_menu": {},
   "number_sections": false,
   "sideBar": true,
   "skip_h1_title": false,
   "title_cell": "Table of Contents",
   "title_sidebar": "Contents",
   "toc_cell": false,
   "toc_position": {},
   "toc_section_display": true,
   "toc_window_display": false
  }
 },
 "nbformat": 4,
 "nbformat_minor": 4
}
